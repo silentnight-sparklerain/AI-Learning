{
 "cells": [
  {
   "cell_type": "markdown",
   "id": "2e51e997",
   "metadata": {},
   "source": [
    "# 第五章：if语句"
   ]
  },
  {
   "cell_type": "markdown",
   "id": "50816330",
   "metadata": {},
   "source": [
    "## 1.一个简单的示例"
   ]
  },
  {
   "cell_type": "code",
   "execution_count": null,
   "id": "1281646a",
   "metadata": {},
   "outputs": [],
   "source": [
    "letters = ['ppp', 'aaa', 'kkk', 'uuu', 'ggg', 'yyy', 'aaa']\n",
    "for letter in letters:\n",
    "    if letter == 'aaa':\n",
    "        print(f\"{letter.upper()}在if分支中\")\n",
    "    else:\n",
    "        print(f\"{letter.title()}在else分支中\")"
   ]
  },
  {
   "cell_type": "markdown",
   "id": "0bc4e2dc",
   "metadata": {},
   "source": [
    "## 2.条件测试"
   ]
  },
  {
   "cell_type": "markdown",
   "id": "9e9f2158",
   "metadata": {},
   "source": [
    "### 2.1 检查是否相等"
   ]
  },
  {
   "cell_type": "markdown",
   "id": "319b906c",
   "metadata": {},
   "source": [
    "检查是否相等时会区分大小写"
   ]
  },
  {
   "cell_type": "code",
   "execution_count": null,
   "id": "fc5c2641",
   "metadata": {},
   "outputs": [],
   "source": [
    "letter = 'AAA'\n",
    "if letter == 'aaa':\n",
    "    print(f\"{letter}是小写\")\n",
    "else:\n",
    "    print(f\"{letter}是大写\")"
   ]
  },
  {
   "cell_type": "markdown",
   "id": "c3a46962",
   "metadata": {},
   "source": [
    "### 2.2 用 != 检查是否不相等"
   ]
  },
  {
   "cell_type": "code",
   "execution_count": null,
   "id": "8f623489",
   "metadata": {},
   "outputs": [],
   "source": [
    "age = 20\n",
    "if age == 19:\n",
    "    print(19)\n",
    "if age != 18:\n",
    "    print(\"不是18岁\")\n",
    "if age >= 20:\n",
    "    print(\"至少20岁\")"
   ]
  },
  {
   "cell_type": "markdown",
   "id": "457759fc",
   "metadata": {},
   "source": [
    "### 2.3 使用and和or检查多个条件"
   ]
  },
  {
   "cell_type": "code",
   "execution_count": null,
   "id": "9d7b8899",
   "metadata": {},
   "outputs": [],
   "source": [
    "age = 20\n",
    "if age >= 18 and age <= 19:\n",
    "    print(\"18岁到19岁之间\")\n",
    "if age >= 20 and age <= 22:\n",
    "    print(\"20岁到22岁之间\")\n",
    "if age >= 27 or age <=23:\n",
    "    print(\"27岁以上或23岁以下\")"
   ]
  },
  {
   "cell_type": "markdown",
   "id": "8ff69477",
   "metadata": {},
   "source": [
    "### 2.4 检查特定值在不在列表中"
   ]
  },
  {
   "cell_type": "code",
   "execution_count": null,
   "id": "5f824532",
   "metadata": {},
   "outputs": [],
   "source": [
    "nums = [1,4,7,9,3,8,5]\n",
    "if 8 in nums:\n",
    "    print(\"8在nums中\")\n",
    "if 10 not in nums:\n",
    "    print(\"10不在nums中\")"
   ]
  },
  {
   "cell_type": "markdown",
   "id": "5774da9b",
   "metadata": {},
   "source": [
    "### 2.5 布尔表达式"
   ]
  },
  {
   "cell_type": "code",
   "execution_count": null,
   "id": "dff63107",
   "metadata": {},
   "outputs": [],
   "source": [
    "Eight = True\n",
    "Six = False\n",
    "if Eight:\n",
    "    print(\"8在数组中\")\n",
    "if Six:\n",
    "    print(\"6在数组中\")"
   ]
  },
  {
   "cell_type": "markdown",
   "id": "ea440256",
   "metadata": {},
   "source": [
    "## 3.if语句"
   ]
  },
  {
   "cell_type": "code",
   "execution_count": 9,
   "id": "3b890fbc",
   "metadata": {},
   "outputs": [
    {
     "name": "stdout",
     "output_type": "stream",
     "text": [
      "青年\n"
     ]
    }
   ],
   "source": [
    "age = 25\n",
    "if age <= 12:\n",
    "    print(\"小孩\")\n",
    "elif age > 12 and age <= 18:\n",
    "    print(\"少年\")\n",
    "elif age > 18 and age <= 30:\n",
    "    print(\"青年\")\n",
    "elif age > 30 and age <= 50:\n",
    "    print(\"中年\")\n",
    "else:\n",
    "    print(\"老年\") "
   ]
  },
  {
   "cell_type": "markdown",
   "id": "dddfbb0b",
   "metadata": {},
   "source": [
    "else可省略不写"
   ]
  }
 ],
 "metadata": {
  "kernelspec": {
   "display_name": "base",
   "language": "python",
   "name": "python3"
  },
  "language_info": {
   "codemirror_mode": {
    "name": "ipython",
    "version": 3
   },
   "file_extension": ".py",
   "mimetype": "text/x-python",
   "name": "python",
   "nbconvert_exporter": "python",
   "pygments_lexer": "ipython3",
   "version": "3.9.12"
  }
 },
 "nbformat": 4,
 "nbformat_minor": 5
}
