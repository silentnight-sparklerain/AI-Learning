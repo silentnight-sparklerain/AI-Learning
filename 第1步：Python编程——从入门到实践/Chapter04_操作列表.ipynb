{
 "cells": [
  {
   "cell_type": "markdown",
   "id": "c2dae466",
   "metadata": {},
   "source": [
    "# 第四章：操作列表"
   ]
  },
  {
   "cell_type": "markdown",
   "id": "2b68d909",
   "metadata": {},
   "source": [
    "## 1.遍历整个列表"
   ]
  },
  {
   "cell_type": "markdown",
   "id": "1bc0ab52",
   "metadata": {},
   "source": [
    "### 1.1 简单遍历"
   ]
  },
  {
   "cell_type": "code",
   "execution_count": null,
   "id": "f25b1df3",
   "metadata": {},
   "outputs": [],
   "source": [
    "letters = ['ppp', 'kkk', 'uuu', 'sss', 'ccc', 'ttt']\n",
    "for letter in letters:\n",
    "    print(letter)"
   ]
  },
  {
   "cell_type": "markdown",
   "id": "ec5ef744",
   "metadata": {},
   "source": [
    "### 1.2 深入研究循环"
   ]
  },
  {
   "cell_type": "code",
   "execution_count": null,
   "id": "f87ee1bf",
   "metadata": {},
   "outputs": [],
   "source": [
    "letters = ['ppp', 'kkk', 'uuu', 'sss', 'ccc', 'ttt']\n",
    "for letter in letters:\n",
    "    print(letter)\n",
    "    print(f\"当前字符串是{letter}\")\n",
    "print(\"循环结束\")  #这一行没有缩进，不在循环体内"
   ]
  },
  {
   "cell_type": "markdown",
   "id": "aa3f259c",
   "metadata": {},
   "source": [
    "## 2.创建数值列表"
   ]
  },
  {
   "cell_type": "markdown",
   "id": "a2f08453",
   "metadata": {},
   "source": [
    "### 2.1 使用range()函数"
   ]
  },
  {
   "cell_type": "code",
   "execution_count": null,
   "id": "35f8a392",
   "metadata": {},
   "outputs": [],
   "source": [
    "for number in range(1, 5):\n",
    "    print(number)"
   ]
  },
  {
   "cell_type": "markdown",
   "id": "e9847f7c",
   "metadata": {},
   "source": [
    "上述代码实际只打印1~4， range()函数让python从指定的第一个数开始，在到达第二个数时停止，因此输出不包含第二个数"
   ]
  },
  {
   "cell_type": "markdown",
   "id": "20f129eb",
   "metadata": {},
   "source": [
    "只给一个参数，就默认从0开始数，一直数到第二个数"
   ]
  },
  {
   "cell_type": "code",
   "execution_count": null,
   "id": "091aa620",
   "metadata": {},
   "outputs": [],
   "source": [
    "for number in range(5):\n",
    "    print(number)"
   ]
  },
  {
   "cell_type": "markdown",
   "id": "2034eb74",
   "metadata": {},
   "source": [
    "### 2.2 使用range()函数创建数值列表"
   ]
  },
  {
   "cell_type": "markdown",
   "id": "2243cb62",
   "metadata": {},
   "source": [
    "使用list()函数将range()的结果直接转换为列表。如果将range()作为list()的参数，输出将是一个数值列表"
   ]
  },
  {
   "cell_type": "code",
   "execution_count": null,
   "id": "27f12992",
   "metadata": {},
   "outputs": [],
   "source": [
    "numbers = list(range(3, 9))  #使用list()函数将结果转换为列表\n",
    "print(numbers)"
   ]
  },
  {
   "cell_type": "markdown",
   "id": "ca302443",
   "metadata": {},
   "source": [
    "使用range()函数时，可以指定步长"
   ]
  },
  {
   "cell_type": "code",
   "execution_count": null,
   "id": "a29c62b4",
   "metadata": {},
   "outputs": [],
   "source": [
    "even_numbers = list(range(8, 17, 2))  #第一个参数是起始位置，第二个参数是终止位置，第三个参数是步长\n",
    "print(even_numbers)"
   ]
  },
  {
   "cell_type": "markdown",
   "id": "cfee9f19",
   "metadata": {},
   "source": [
    "使用range()函数几乎可以创造任意数值的集合，例如完全平方数与完全立方数：（Python中，用两个星号**表示乘方）"
   ]
  },
  {
   "cell_type": "code",
   "execution_count": null,
   "id": "63b9f157",
   "metadata": {},
   "outputs": [],
   "source": [
    "squares = []\n",
    "cubes = []\n",
    "for value in range(1, 11):\n",
    "    square = value ** 2\n",
    "    squares.append(square)\n",
    "    cube = value ** 3\n",
    "    cubes.append(cube)\n",
    "print(squares)\n",
    "print(cubes)"
   ]
  },
  {
   "cell_type": "markdown",
   "id": "36897bc3",
   "metadata": {},
   "source": [
    "也可以不使用square："
   ]
  },
  {
   "cell_type": "code",
   "execution_count": null,
   "id": "e7417cd2",
   "metadata": {},
   "outputs": [],
   "source": [
    "squares = []\n",
    "for value in range(1, 11):\n",
    "    squares.append(value ** 2)\n",
    "print(squares)"
   ]
  },
  {
   "cell_type": "markdown",
   "id": "6ee76c0f",
   "metadata": {},
   "source": [
    "### 2.3 对数值列表执行简单的统计计算"
   ]
  },
  {
   "cell_type": "code",
   "execution_count": null,
   "id": "86e29263",
   "metadata": {},
   "outputs": [],
   "source": [
    "digits = list(range(1, 21))\n",
    "print(digits)\n",
    "print(min(digits))\n",
    "print(max(digits))\n",
    "print(sum(digits))"
   ]
  },
  {
   "cell_type": "markdown",
   "id": "da24ef56",
   "metadata": {},
   "source": [
    "### 2.4 列表推导式"
   ]
  },
  {
   "cell_type": "markdown",
   "id": "44e9b9aa",
   "metadata": {},
   "source": [
    "列表推导式将for循环和创建新元素的代码合并成一行，并自动追加新元素"
   ]
  },
  {
   "cell_type": "code",
   "execution_count": null,
   "id": "0febcd68",
   "metadata": {},
   "outputs": [],
   "source": [
    "squares = [value ** 2 for value in range(1, 11)]\n",
    "print(squares)"
   ]
  },
  {
   "cell_type": "markdown",
   "id": "0eb2b6eb",
   "metadata": {},
   "source": [
    "使用这种语法，首先指定一个描述性的列表，如squares。然后指定一个左方括号，定义一个表达式，用于生成要存储到列表中的值。接下来写一个for循环，用于给表达式赋值，再加右方括号。"
   ]
  },
  {
   "cell_type": "markdown",
   "id": "d8b6e014",
   "metadata": {},
   "source": [
    "## 3.使用列表的一部分"
   ]
  },
  {
   "cell_type": "markdown",
   "id": "c71b9584",
   "metadata": {},
   "source": [
    "### 3.1 切片"
   ]
  },
  {
   "cell_type": "code",
   "execution_count": null,
   "id": "ce093c7e",
   "metadata": {},
   "outputs": [],
   "source": [
    "letters = ['ddd', 'ggg', 'ppp', 'kkk', 'bbb', 'mmm']\n",
    "print(letters[2:4])"
   ]
  },
  {
   "cell_type": "markdown",
   "id": "4e145cb1",
   "metadata": {},
   "source": [
    "这将返回索引为2，3的字符串"
   ]
  },
  {
   "cell_type": "markdown",
   "id": "b0e369e6",
   "metadata": {},
   "source": [
    "如果没有指定第一个索引，python会自动从列表开头开始："
   ]
  },
  {
   "cell_type": "code",
   "execution_count": null,
   "id": "74432db7",
   "metadata": {},
   "outputs": [],
   "source": [
    "letters = ['ddd', 'ggg', 'ppp', 'kkk', 'bbb', 'mmm']\n",
    "print(letters[:4])"
   ]
  },
  {
   "cell_type": "markdown",
   "id": "5cb3eafd",
   "metadata": {},
   "source": [
    "要让切片终止于列表末尾，可以省略终止索引："
   ]
  },
  {
   "cell_type": "code",
   "execution_count": null,
   "id": "df3c544d",
   "metadata": {},
   "outputs": [],
   "source": [
    "letters = ['ddd', 'ggg', 'ppp', 'kkk', 'bbb', 'mmm']\n",
    "print(letters[2:])"
   ]
  },
  {
   "cell_type": "markdown",
   "id": "21450115",
   "metadata": {},
   "source": [
    "输出最后三个字符串："
   ]
  },
  {
   "cell_type": "code",
   "execution_count": null,
   "id": "cad1f691",
   "metadata": {},
   "outputs": [],
   "source": [
    "letters = ['ddd', 'ggg', 'ppp', 'kkk', 'bbb', 'mmm']\n",
    "print(letters[-3:])"
   ]
  },
  {
   "cell_type": "markdown",
   "id": "bfe05949",
   "metadata": {},
   "source": [
    "### 3.2 遍历切片"
   ]
  },
  {
   "cell_type": "code",
   "execution_count": null,
   "id": "bc838cd0",
   "metadata": {},
   "outputs": [],
   "source": [
    "letters = ['ddd', 'ggg', 'ppp', 'kkk', 'bbb', 'mmm']\n",
    "for letter in letters[0:3]:\n",
    "    print(letter.title())"
   ]
  },
  {
   "cell_type": "markdown",
   "id": "c9c81637",
   "metadata": {},
   "source": [
    "### 3.3 复制列表"
   ]
  },
  {
   "cell_type": "markdown",
   "id": "67e6b3ad",
   "metadata": {},
   "source": [
    "同时省略起始索引和终止索引（[:]），让python创建一个起始于第一个元素，终止于最后一个元素的切片，即复制整个列表"
   ]
  },
  {
   "cell_type": "code",
   "execution_count": null,
   "id": "f4f60f5c",
   "metadata": {},
   "outputs": [],
   "source": [
    "letters = ['ddd', 'ggg', 'ppp', 'kkk', 'bbb', 'mmm']\n",
    "new_letters = letters[:]\n",
    "print(new_letters)"
   ]
  },
  {
   "cell_type": "markdown",
   "id": "28c7fbb0",
   "metadata": {},
   "source": [
    "下列语法并不是将letters复制给new_letters，而是将letters与new_letters关联在一起"
   ]
  },
  {
   "cell_type": "code",
   "execution_count": null,
   "id": "025dad12",
   "metadata": {},
   "outputs": [],
   "source": [
    "letters = ['ddd', 'ggg', 'ppp', 'kkk', 'bbb', 'mmm']\n",
    "new_letters = letters\n",
    "old_letters = letters[:]\n",
    "\n",
    "letters.append('hahaha')\n",
    "print(letters)\n",
    "print(new_letters)\n",
    "print(old_letters)"
   ]
  },
  {
   "cell_type": "markdown",
   "id": "91e6bcfc",
   "metadata": {},
   "source": [
    "letters和new_letters结果完全一样，但是old_letters没有添加新元素'hahaha'"
   ]
  },
  {
   "cell_type": "markdown",
   "id": "cd988dbf",
   "metadata": {},
   "source": [
    "## 4.元组"
   ]
  },
  {
   "cell_type": "markdown",
   "id": "f3d97e6c",
   "metadata": {},
   "source": [
    "### 4.1 定义元组"
   ]
  },
  {
   "cell_type": "markdown",
   "id": "6168a693",
   "metadata": {},
   "source": [
    "元组看起来很像列表，但使用圆括号而不是方括号"
   ]
  },
  {
   "cell_type": "code",
   "execution_count": null,
   "id": "05a5bcdf",
   "metadata": {},
   "outputs": [],
   "source": [
    "nums = (10,30,60,50,25)\n",
    "print(nums[-1])\n",
    "\n",
    "# nums[0] = 45\n",
    "# 试图修改元组中元素的值，这是错误的，元组中的元素不可被修改"
   ]
  },
  {
   "cell_type": "markdown",
   "id": "75863edd",
   "metadata": {},
   "source": [
    "严格来说，元组是由逗号标识的，如果定义一个只含一个元素的元组，必须加逗号："
   ]
  },
  {
   "cell_type": "code",
   "execution_count": null,
   "id": "b288b18d",
   "metadata": {},
   "outputs": [],
   "source": [
    "nums = (2,)\n",
    "print(nums)\n",
    "print(nums[0])"
   ]
  },
  {
   "cell_type": "markdown",
   "id": "df6e5ffd",
   "metadata": {},
   "source": [
    "### 4.2 遍历元组中的所有值"
   ]
  },
  {
   "cell_type": "code",
   "execution_count": null,
   "id": "0506cdf2",
   "metadata": {},
   "outputs": [],
   "source": [
    "nums = (10,30,60,50,25)\n",
    "for num in nums:\n",
    "    print(num)"
   ]
  },
  {
   "cell_type": "markdown",
   "id": "21ddbc9b",
   "metadata": {},
   "source": [
    "### 4.3 给元组重新赋值"
   ]
  },
  {
   "cell_type": "code",
   "execution_count": 27,
   "id": "ac1a2a87",
   "metadata": {},
   "outputs": [
    {
     "name": "stdout",
     "output_type": "stream",
     "text": [
      "(300, 80)\n",
      "(900, 10)\n"
     ]
    }
   ],
   "source": [
    "nums = (300,80)\n",
    "print(nums)\n",
    "nums = (900,10)\n",
    "print(nums)"
   ]
  },
  {
   "cell_type": "markdown",
   "id": "b3f3acfd",
   "metadata": {},
   "source": [
    "虽然不可以单独修改元组中单个元素的值，但是可以给整个元组重新赋值"
   ]
  }
 ],
 "metadata": {
  "kernelspec": {
   "display_name": "base",
   "language": "python",
   "name": "python3"
  },
  "language_info": {
   "codemirror_mode": {
    "name": "ipython",
    "version": 3
   },
   "file_extension": ".py",
   "mimetype": "text/x-python",
   "name": "python",
   "nbconvert_exporter": "python",
   "pygments_lexer": "ipython3",
   "version": "3.9.12"
  }
 },
 "nbformat": 4,
 "nbformat_minor": 5
}
