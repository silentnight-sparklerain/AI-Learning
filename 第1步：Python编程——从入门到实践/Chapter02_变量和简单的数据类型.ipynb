{
 "cells": [
  {
   "cell_type": "markdown",
   "id": "f646f965",
   "metadata": {},
   "source": [
    "# 第二章：变量和简单的数据类型"
   ]
  },
  {
   "cell_type": "markdown",
   "id": "1736f650",
   "metadata": {},
   "source": [
    "## 1.变量"
   ]
  },
  {
   "cell_type": "markdown",
   "id": "05da4599",
   "metadata": {},
   "source": [
    "### 1.1 定义变量"
   ]
  },
  {
   "cell_type": "code",
   "execution_count": null,
   "id": "6bc9827b",
   "metadata": {},
   "outputs": [],
   "source": [
    "message = \"Hello!!!\"\n",
    "print(message)"
   ]
  },
  {
   "cell_type": "markdown",
   "id": "45b33ba8",
   "metadata": {},
   "source": [
    "### 1.2 一次性给多个变量赋值"
   ]
  },
  {
   "cell_type": "code",
   "execution_count": null,
   "id": "74f45a86",
   "metadata": {},
   "outputs": [],
   "source": [
    "a,b,c = 0,2,1\n",
    "print(a,b,c)"
   ]
  },
  {
   "cell_type": "markdown",
   "id": "2c874397",
   "metadata": {},
   "source": [
    "## 2.字符串"
   ]
  },
  {
   "cell_type": "markdown",
   "id": "102a51f0",
   "metadata": {},
   "source": [
    "### 2.1 使用方法修改字符串的大小写"
   ]
  },
  {
   "cell_type": "code",
   "execution_count": null,
   "id": "1851a420",
   "metadata": {},
   "outputs": [],
   "source": [
    "name = \"ada Lovelace\"\n",
    "print(name.title())\n",
    "print(name.upper())\n",
    "print(name.lower())"
   ]
  },
  {
   "cell_type": "markdown",
   "id": "0d8f2fa3",
   "metadata": {},
   "source": [
    "### 2.2 在字符串中使用变量"
   ]
  },
  {
   "cell_type": "code",
   "execution_count": null,
   "id": "0feb9018",
   "metadata": {},
   "outputs": [],
   "source": [
    "first_name = \"ada\"\n",
    "last_name = \"lovelace\"\n",
    "full_name = f\"{first_name} {last_name}\"\n",
    "print(full_name)\n",
    "print(f\"Hello, {full_name.title()}!\")"
   ]
  },
  {
   "cell_type": "markdown",
   "id": "6a7792a9",
   "metadata": {},
   "source": [
    "这种字符串称为f字符串。f是format（设置格式）的简写，Python会通过花括号内的变量替换为其值"
   ]
  },
  {
   "cell_type": "markdown",
   "id": "952d7d78",
   "metadata": {},
   "source": [
    "### 2.3 删除空白"
   ]
  },
  {
   "cell_type": "markdown",
   "id": "5c917583",
   "metadata": {},
   "source": [
    "使用rstrip()方法暂时删除字符串末尾的空白,lstrip()方法暂时删除字符串开头的空白\n",
    "\n",
    "将删除操作的结果关联到变量，永久删除字符串末尾的空白"
   ]
  },
  {
   "cell_type": "code",
   "execution_count": null,
   "id": "659a294a",
   "metadata": {},
   "outputs": [],
   "source": [
    "f1 = 'python   '\n",
    "f2 = 'python'\n",
    "print(f1)\n",
    "print(f2)\n",
    "print(f1.rstrip())\n",
    "print(f1)\n",
    "f1 = f1.rstrip()\n",
    "print(f1)"
   ]
  },
  {
   "cell_type": "markdown",
   "id": "29f2b87f",
   "metadata": {},
   "source": [
    "使用strip()方法删除字符串两端的空白"
   ]
  },
  {
   "cell_type": "code",
   "execution_count": null,
   "id": "3ef7f7fd",
   "metadata": {},
   "outputs": [],
   "source": [
    "f3 = '   python       '\n",
    "print(f3)\n",
    "print(f3.strip())\n",
    "f3 = f3.strip()\n",
    "print(f3)"
   ]
  },
  {
   "cell_type": "markdown",
   "id": "62a7999e",
   "metadata": {},
   "source": [
    "### 2.4 删除前缀"
   ]
  },
  {
   "cell_type": "code",
   "execution_count": null,
   "id": "1619680b",
   "metadata": {},
   "outputs": [],
   "source": [
    "web = 'https://python.com'\n",
    "print(web)\n",
    "web.removeprefix('https://')\n",
    "print(web)\n",
    "web = web.removeprefix('https://')\n",
    "print(web)"
   ]
  },
  {
   "cell_type": "markdown",
   "id": "a7331e89",
   "metadata": {},
   "source": [
    "removeprefix()方法删除字符串前缀，但不会改变字符串的值"
   ]
  },
  {
   "cell_type": "markdown",
   "id": "d6efeead",
   "metadata": {},
   "source": [
    "## 3.数"
   ]
  },
  {
   "cell_type": "markdown",
   "id": "1a6bd33e",
   "metadata": {},
   "source": [
    "### 3.1 数中的下划线"
   ]
  },
  {
   "cell_type": "code",
   "execution_count": null,
   "id": "3d8c1675",
   "metadata": {},
   "outputs": [],
   "source": [
    "universe_age = 14_000_000_000\n",
    "print(universe_age)"
   ]
  },
  {
   "cell_type": "markdown",
   "id": "7c46b822",
   "metadata": {},
   "source": [
    "Python会忽视数中的下划线"
   ]
  },
  {
   "cell_type": "markdown",
   "id": "3a985878",
   "metadata": {},
   "source": [
    "### 3.2 常量"
   ]
  },
  {
   "cell_type": "code",
   "execution_count": null,
   "id": "ca96e920",
   "metadata": {},
   "outputs": [],
   "source": [
    "MAX_CONNECTIONS = 4000"
   ]
  },
  {
   "cell_type": "markdown",
   "id": "25eb02ff",
   "metadata": {},
   "source": [
    "常量保持不变，将所有字母全部大写来表示它是常量"
   ]
  },
  {
   "cell_type": "markdown",
   "id": "caf180c7",
   "metadata": {},
   "source": [
    "## 4.注释"
   ]
  },
  {
   "cell_type": "code",
   "execution_count": null,
   "id": "600b9aa3",
   "metadata": {},
   "outputs": [],
   "source": [
    "# 向大家问好\n",
    "print(\"hello\")"
   ]
  }
 ],
 "metadata": {
  "kernelspec": {
   "display_name": "base",
   "language": "python",
   "name": "python3"
  },
  "language_info": {
   "codemirror_mode": {
    "name": "ipython",
    "version": 3
   },
   "file_extension": ".py",
   "mimetype": "text/x-python",
   "name": "python",
   "nbconvert_exporter": "python",
   "pygments_lexer": "ipython3",
   "version": "3.9.12"
  }
 },
 "nbformat": 4,
 "nbformat_minor": 5
}
