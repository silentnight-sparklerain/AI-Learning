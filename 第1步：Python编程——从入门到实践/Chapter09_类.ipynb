{
 "cells": [
  {
   "cell_type": "markdown",
   "id": "e9f4d57d",
   "metadata": {},
   "source": [
    "# 第九章：类"
   ]
  },
  {
   "cell_type": "markdown",
   "id": "719c48bd",
   "metadata": {},
   "source": [
    "## 1.创建和使用类"
   ]
  },
  {
   "cell_type": "markdown",
   "id": "57259f26",
   "metadata": {},
   "source": [
    "### 1.1 创建Dog类"
   ]
  },
  {
   "cell_type": "code",
   "execution_count": null,
   "id": "b2304e56",
   "metadata": {},
   "outputs": [],
   "source": [
    "class Dog:\n",
    "    \"\"\"模拟小狗\"\"\"\n",
    "    def __init__(self, name, age):\n",
    "        \"\"\"初始化属性\"\"\"\n",
    "        self.name = name\n",
    "        self.age = age\n",
    "\n",
    "    def Sit(self):\n",
    "        \"\"\"模拟小狗接收命令后坐下\"\"\"\n",
    "        print(f\"{self.name.title()} is now sitting.\")\n",
    "\n",
    "    def Roll(self):\n",
    "        \"\"\"模拟小狗接收命令后翻滚\"\"\"\n",
    "        print(f\"{self.naem.title()} rolled over!\")"
   ]
  },
  {
   "cell_type": "markdown",
   "id": "00d9b7d5",
   "metadata": {},
   "source": [
    "#### __init__()方法"
   ]
  },
  {
   "cell_type": "markdown",
   "id": "1030f04b",
   "metadata": {},
   "source": [
    "类中的函数称为方法。__init__()是一个特殊方法，每当你根据Dog类创建新实例时，python都会自动运行它。在这个方法的名称中，开头和末尾各有两个下划线，这是一种约定，旨在避免python默认方法与普通方法发生名称冲突。务必确保__init__()的两边都有两个下划线，否则不会自动调用这种方法。"
   ]
  },
  {
   "cell_type": "markdown",
   "id": "a2b66263",
   "metadata": {},
   "source": [
    "__init__()包含三个形参：self，name，age。在这个方法的定义中，形参self必不可少，而且必须位于其他形参的前面。当python自动调用这个方法来创建Dog实例时，将自动传入实参self，每个与实例相关联的方法调用都会自动传递实参self，该实参是一个指向实例本身的引用，让实例能够访问类中的属性和方法。当我们创建Dog实例时，python将调用__init__()方法，我们将通过实参向Dog传递名字和年龄，self会自动传递，不需要我们来传递。每当我们根据Dog类创建实例时，都只需要给形参name和age提供值。"
   ]
  },
  {
   "cell_type": "markdown",
   "id": "3a006981",
   "metadata": {},
   "source": [
    "在__init__()方法内定义的两个变量都有前缀self。以self为前缀的变量可供类中所有方法使用，可以通过类的任意实例来访问。像这样可以通过实例访问的变量称为属性。"
   ]
  },
  {
   "cell_type": "markdown",
   "id": "658cf366",
   "metadata": {},
   "source": [
    "### 1.2 根据类来创建实例"
   ]
  },
  {
   "cell_type": "code",
   "execution_count": null,
   "id": "3eb039be",
   "metadata": {},
   "outputs": [],
   "source": [
    "class Dog:\n",
    "    \"\"\"模拟小狗\"\"\"\n",
    "    def __init__(self, name, age):\n",
    "        \"\"\"初始化属性\"\"\"\n",
    "        self.name = name\n",
    "        self.age = age\n",
    "\n",
    "    def Sit(self):\n",
    "        \"\"\"模拟小狗接收命令后坐下\"\"\"\n",
    "        print(f\"{self.name.title()} is now sitting.\")\n",
    "\n",
    "    def Roll(self):\n",
    "        \"\"\"模拟小狗接收命令后翻滚\"\"\"\n",
    "        print(f\"{self.name.title()} rolled over!\")\n",
    "\n",
    "MyDog = Dog('Lucy', 5)\n",
    "print(MyDog.name)\n",
    "MyDog.Roll()\n",
    "MyDog.Sit()"
   ]
  },
  {
   "cell_type": "markdown",
   "id": "8a6602b4",
   "metadata": {},
   "source": [
    "## 2.使用类和实例"
   ]
  },
  {
   "cell_type": "code",
   "execution_count": null,
   "id": "8d26855d",
   "metadata": {},
   "outputs": [],
   "source": [
    "class Car:\n",
    "    \"\"\"模拟汽车\"\"\"\n",
    "\n",
    "    def __init__(self, make, model, year):\n",
    "        \"\"\"初始化描述汽车的属性\"\"\"\n",
    "        self.make = make\n",
    "        self.model = model\n",
    "        self.year = year\n",
    "        self.odometer_reading = 0  # 给属性赋默认值（里程为0）\n",
    "\n",
    "    def Get_Descriptive_Name(self):\n",
    "        \"\"\"返回格式规范的描述性信息\"\"\"\n",
    "        long_name = f\"{self.year} {self.make} {self.model}\"\n",
    "        return long_name.title()\n",
    "    \n",
    "    def Read_Odometer(self):\n",
    "        \"\"\"打印一条信息，指出汽车行驶里程\"\"\"\n",
    "        print(f\"This car has {self.odometer_reading} miles on it.\")\n",
    "\n",
    "    def Update_Odometer(self, mileage):\n",
    "        \"\"\"将里程表读数设置为指定的值\"\"\"\n",
    "        self.odometer_reading = mileage\n",
    "\n",
    "\n",
    "# 打印汽车初始数据\n",
    "MyCar = Car('audi', 'a4', 2024)\n",
    "print(MyCar.Get_Descriptive_Name())\n",
    "MyCar.Read_Odometer()\n",
    "\n",
    "# 修改属性的值\n",
    "MyCar.odometer_reading = 1000  # 直接修改\n",
    "MyCar.Read_Odometer()\n",
    "MyCar.Update_Odometer(2000)  # 通过类中的方法修改\n",
    "MyCar.Read_Odometer()"
   ]
  },
  {
   "cell_type": "markdown",
   "id": "2b5bc636",
   "metadata": {},
   "source": [
    "## 3.继承"
   ]
  },
  {
   "cell_type": "markdown",
   "id": "90763cca",
   "metadata": {},
   "source": [
    "在编写类时，并非都要从头开始。如果要编写的类是一个既有的类的特殊版本，可使用继承。当一个类继承另一个类时，将自动获得后者的所有属性和方法。原有的类称为父类，新类称为子类。子类不仅可以继承父类的所有属性和方法，还可以自己定义自己的属性和方法。"
   ]
  },
  {
   "cell_type": "markdown",
   "id": "0ca726a3",
   "metadata": {},
   "source": [
    "### 3.1 子类的__init__()方法"
   ]
  },
  {
   "cell_type": "markdown",
   "id": "5bd550ef",
   "metadata": {},
   "source": [
    "下面这段代码在Car类的基础上编写ElectricCar子类："
   ]
  },
  {
   "cell_type": "code",
   "execution_count": null,
   "id": "c9fe4ce9",
   "metadata": {},
   "outputs": [],
   "source": [
    "class Car:\n",
    "    \"\"\"模拟汽车\"\"\"\n",
    "\n",
    "    def __init__(self, make, model, year):\n",
    "        \"\"\"初始化描述汽车的属性\"\"\"\n",
    "        self.make = make\n",
    "        self.model = model\n",
    "        self.year = year\n",
    "        self.odometer_reading = 0  # 给属性赋默认值（里程为0）\n",
    "\n",
    "    def Get_Descriptive_Name(self):\n",
    "        \"\"\"返回格式规范的描述性信息\"\"\"\n",
    "        long_name = f\"{self.year} {self.make} {self.model}\"\n",
    "        return long_name.title()\n",
    "    \n",
    "    def Read_Odometer(self):\n",
    "        \"\"\"打印一条信息，指出汽车行驶里程\"\"\"\n",
    "        print(f\"This car has {self.odometer_reading} miles on it.\")\n",
    "\n",
    "    def Update_Odometer(self, mileage):\n",
    "        \"\"\"将里程表读数设置为指定的值\"\"\"\n",
    "        self.odometer_reading = mileage\n",
    "\n",
    "\n",
    "class ElectricCar(Car):\n",
    "    \"\"\"模拟电动汽车\"\"\"\n",
    "\n",
    "    def __init__(self, make, model, year):\n",
    "        \"\"\"初始化父类的属性\"\"\"\n",
    "        super().__init__(make, model, year)\n",
    "\n",
    "\n",
    "MyECar = ElectricCar('nissan', 'leaf', 2025)\n",
    "print(MyECar.Get_Descriptive_Name())  # 父类中的函数子类可以直接使用"
   ]
  },
  {
   "cell_type": "markdown",
   "id": "4b2845e9",
   "metadata": {},
   "source": [
    "super()是一个特殊的函数，让你可以调用父类的方法。这行代码让python调用Car类的__init__()方法。父类也称超类（superclass），函数名super由此得名。"
   ]
  },
  {
   "cell_type": "markdown",
   "id": "908d8b9c",
   "metadata": {},
   "source": [
    "### 3.2 给子类定义属性和方法"
   ]
  },
  {
   "cell_type": "code",
   "execution_count": null,
   "id": "83051398",
   "metadata": {},
   "outputs": [],
   "source": [
    "class Car:\n",
    "    \"\"\"模拟汽车\"\"\"\n",
    "\n",
    "    def __init__(self, make, model, year):\n",
    "        \"\"\"初始化描述汽车的属性\"\"\"\n",
    "        self.make = make\n",
    "        self.model = model\n",
    "        self.year = year\n",
    "        self.odometer_reading = 0  # 给属性赋默认值（里程为0）\n",
    "\n",
    "    def Get_Descriptive_Name(self):\n",
    "        \"\"\"返回格式规范的描述性信息\"\"\"\n",
    "        long_name = f\"{self.year} {self.make} {self.model}\"\n",
    "        return long_name.title()\n",
    "    \n",
    "    def Read_Odometer(self):\n",
    "        \"\"\"打印一条信息，指出汽车行驶里程\"\"\"\n",
    "        print(f\"This car has {self.odometer_reading} miles on it.\")\n",
    "\n",
    "    def Update_Odometer(self, mileage):\n",
    "        \"\"\"将里程表读数设置为指定的值\"\"\"\n",
    "        self.odometer_reading = mileage\n",
    "\n",
    "\n",
    "class ElectricCar(Car):\n",
    "    \"\"\"模拟电动汽车\"\"\"\n",
    "\n",
    "    def __init__(self, make, model, year):\n",
    "        \"\"\"初始化父类的属性\"\"\"\n",
    "        super().__init__(make, model, year)\n",
    "        self.battery_size = 40  # 初始化电动汽车的特有属性\n",
    "\n",
    "    def PrintBattery(self):\n",
    "        print(f\"This car has a {self.battery_size}-kwh battery.\")\n",
    "\n",
    "\n",
    "MyECar = ElectricCar('nissan', 'leaf', 2025)\n",
    "print(MyECar.Get_Descriptive_Name())\n",
    "MyECar.PrintBattery()"
   ]
  },
  {
   "cell_type": "markdown",
   "id": "147f1d82",
   "metadata": {},
   "source": [
    "### 3.3 重写父类中的方法"
   ]
  },
  {
   "cell_type": "code",
   "execution_count": null,
   "id": "db8229ec",
   "metadata": {},
   "outputs": [],
   "source": [
    "class Car:\n",
    "    \"\"\"模拟汽车\"\"\"\n",
    "\n",
    "    def __init__(self, make, model, year):\n",
    "        \"\"\"初始化描述汽车的属性\"\"\"\n",
    "        self.make = make\n",
    "        self.model = model\n",
    "        self.year = year\n",
    "        self.gas = 100\n",
    "        self.odometer_reading = 0  # 给属性赋默认值（里程为0）\n",
    "\n",
    "    def Get_Descriptive_Name(self):\n",
    "        \"\"\"返回格式规范的描述性信息\"\"\"\n",
    "        long_name = f\"{self.year} {self.make} {self.model}\"\n",
    "        return long_name.title()\n",
    "    \n",
    "    def Read_Odometer(self):\n",
    "        \"\"\"打印一条信息，指出汽车行驶里程\"\"\"\n",
    "        print(f\"This car has {self.odometer_reading} miles on it.\")\n",
    "\n",
    "    def Update_Odometer(self, mileage):\n",
    "        \"\"\"将里程表读数设置为指定的值\"\"\"\n",
    "        self.odometer_reading = mileage\n",
    "\n",
    "    # 父类有一个显示油箱的方法\n",
    "    def Show_Gas_Tank(self):\n",
    "        \"\"\"显示油箱\"\"\"\n",
    "        print(f\"Gas remain : {self.gas}\")\n",
    "\n",
    "\n",
    "class ElectricCar(Car):\n",
    "    \"\"\"模拟电动汽车\"\"\"\n",
    "\n",
    "    def __init__(self, make, model, year):\n",
    "        \"\"\"初始化父类的属性\"\"\"\n",
    "        super().__init__(make, model, year)\n",
    "        self.battery_size = 40  # 初始化电动汽车的特有属性\n",
    "\n",
    "    def PrintBattery(self):\n",
    "        print(f\"This car has a {self.battery_size}-kwh battery.\")\n",
    "\n",
    "    # 子类没有油箱，不显示\n",
    "    def Show_Gas_Tank(self):\n",
    "        print(\"This car doesn't have a gas tank!\")\n",
    "\n",
    "\n",
    "MyCar = Car('audi', 'a4', 2024)\n",
    "MyECar = ElectricCar('nissan', 'leaf', 2025)\n",
    "MyCar.Show_Gas_Tank()\n",
    "MyECar.Show_Gas_Tank()"
   ]
  },
  {
   "cell_type": "markdown",
   "id": "37181b06",
   "metadata": {},
   "source": [
    "### 3.4 将类实例用作属性"
   ]
  },
  {
   "cell_type": "code",
   "execution_count": null,
   "id": "f56af929",
   "metadata": {},
   "outputs": [],
   "source": [
    "class Car:\n",
    "    \"\"\"模拟汽车\"\"\"\n",
    "\n",
    "    def __init__(self, make, model, year):\n",
    "        \"\"\"初始化描述汽车的属性\"\"\"\n",
    "        self.make = make\n",
    "        self.model = model\n",
    "        self.year = year\n",
    "        self.gas = 100\n",
    "        self.odometer_reading = 0  # 给属性赋默认值（里程为0）\n",
    "\n",
    "    def Get_Descriptive_Name(self):\n",
    "        \"\"\"返回格式规范的描述性信息\"\"\"\n",
    "        long_name = f\"{self.year} {self.make} {self.model}\"\n",
    "        return long_name.title()\n",
    "    \n",
    "    def Read_Odometer(self):\n",
    "        \"\"\"打印一条信息，指出汽车行驶里程\"\"\"\n",
    "        print(f\"This car has {self.odometer_reading} miles on it.\")\n",
    "\n",
    "    def Update_Odometer(self, mileage):\n",
    "        \"\"\"将里程表读数设置为指定的值\"\"\"\n",
    "        self.odometer_reading = mileage\n",
    "\n",
    "\n",
    "\n",
    "class Battery:\n",
    "    \"\"\"模拟电动汽车的电池\"\"\"\n",
    "\n",
    "    def __init__(self, battery_size = 40):  # 默认battery_size = 40\n",
    "        self.battery_size = battery_size\n",
    "\n",
    "    def Print_Battery(self):\n",
    "        print(f\"This car has a {self.battery_size}-kwh battery\")\n",
    "\n",
    "    def Get_Range(self):\n",
    "        \"\"\"打印一条消息，指出电池的续航里程\"\"\"\n",
    "        if self.battery_size == 40:\n",
    "            range = 150\n",
    "        elif self.battery_size == 65:\n",
    "            range = 225\n",
    "        print(f\"This car can go about {range} miles on a full charge.\")\n",
    "\n",
    "\n",
    "\n",
    "class ElectricCar(Car):\n",
    "    \"\"\"模拟电动汽车\"\"\"\n",
    "\n",
    "    def __init__(self, make, model, year):\n",
    "        \"\"\"初始化父类的属性\"\"\"\n",
    "        super().__init__(make, model, year)\n",
    "        self.battery_size = Battery()  # 初始化电动汽车的特有属性\n",
    "\n",
    "    def PrintBattery(self):\n",
    "        print(f\"This car has a {self.battery_size}-kwh battery.\")\n",
    "\n",
    "\n",
    "\n",
    "MyECar = ElectricCar('nissan', 'leaf', 2025)\n",
    "MyECar.battery_size.Print_Battery()\n",
    "MyECar.battery_size.Get_Range()"
   ]
  },
  {
   "cell_type": "markdown",
   "id": "ac42dbd9",
   "metadata": {},
   "source": [
    "## 4.导入类"
   ]
  },
  {
   "cell_type": "markdown",
   "id": "3b1e1996",
   "metadata": {},
   "source": [
    "### 4.1 导入单个类"
   ]
  },
  {
   "cell_type": "code",
   "execution_count": null,
   "id": "d7de256f",
   "metadata": {},
   "outputs": [],
   "source": [
    "from Chapter09_module import New_Car\n",
    "MyCar = New_Car('audi', 'a4', 2024)\n",
    "print(MyCar.Get_Descriptive_Name())"
   ]
  },
  {
   "cell_type": "markdown",
   "id": "fcb95a4c",
   "metadata": {},
   "source": [
    "### 4.2 导入整个模块"
   ]
  },
  {
   "cell_type": "code",
   "execution_count": null,
   "id": "99974ac5",
   "metadata": {},
   "outputs": [],
   "source": [
    "import Chapter09_module as p9\n",
    "MyCar = p9.New_Car('audi', 'a4', 2024)\n",
    "print(MyCar.Get_Descriptive_Name())\n",
    "\n",
    "MyECar = p9.New_ElectricCar('nissan', 'leaf', 2025)\n",
    "MyECar.battery_size.Print_Battery()\n",
    "MyECar.battery_size.Get_Range()"
   ]
  },
  {
   "cell_type": "markdown",
   "id": "b8d7f94a",
   "metadata": {},
   "source": [
    "### 4.3 导入模块中所有类"
   ]
  },
  {
   "cell_type": "code",
   "execution_count": null,
   "id": "f86843c7",
   "metadata": {},
   "outputs": [],
   "source": [
    "from Chapter09_module import *\n",
    "MyCar = New_Car('audi', 'a4', 2024)\n",
    "print(MyCar.Get_Descriptive_Name())\n",
    "\n",
    "MyECar = New_ElectricCar('nissan', 'leaf', 2025)\n",
    "MyECar.battery_size.Print_Battery()\n",
    "MyECar.battery_size.Get_Range()"
   ]
  }
 ],
 "metadata": {
  "kernelspec": {
   "display_name": "base",
   "language": "python",
   "name": "python3"
  },
  "language_info": {
   "codemirror_mode": {
    "name": "ipython",
    "version": 3
   },
   "file_extension": ".py",
   "mimetype": "text/x-python",
   "name": "python",
   "nbconvert_exporter": "python",
   "pygments_lexer": "ipython3",
   "version": "3.9.12"
  }
 },
 "nbformat": 4,
 "nbformat_minor": 5
}
