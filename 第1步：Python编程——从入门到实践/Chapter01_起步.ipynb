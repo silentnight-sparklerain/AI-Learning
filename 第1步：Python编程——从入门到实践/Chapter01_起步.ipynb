{
 "cells": [
  {
   "cell_type": "markdown",
   "id": "95162280",
   "metadata": {},
   "source": [
    "# 第一章：起步"
   ]
  },
  {
   "cell_type": "markdown",
   "id": "2e8eb5d4",
   "metadata": {},
   "source": [
    "## 1.运行hello_world.py"
   ]
  },
  {
   "cell_type": "code",
   "execution_count": 1,
   "id": "9c2bb4a3",
   "metadata": {},
   "outputs": [
    {
     "name": "stdout",
     "output_type": "stream",
     "text": [
      "hello world\n"
     ]
    }
   ],
   "source": [
    "print(\"hello world\")"
   ]
  },
  {
   "cell_type": "markdown",
   "id": "72a0f27d",
   "metadata": {},
   "source": [
    "## 2.从终端运行Python程序"
   ]
  },
  {
   "cell_type": "markdown",
   "id": "3c041bab",
   "metadata": {},
   "source": [
    "使用终端命令cd（表示change directory，即切换目录）在命令行窗口中浏览文件系统，使用命令dir可以显示当前目录所有文件\n",
    "\n",
    "为运行程序hello_world.py，请打开一个终端窗口，并执行下面的命令：\n",
    "\n",
    "C:\\> cd Desktop\\python_work\n",
    "\n",
    "C:\\Desktop\\python_work> dir\n",
    "\n",
    "hello_world.py\n",
    "\n",
    "C:\\Desktop\\python_work> python hello_world.py\n",
    "\n",
    "hello world"
   ]
  }
 ],
 "metadata": {
  "kernelspec": {
   "display_name": "base",
   "language": "python",
   "name": "python3"
  },
  "language_info": {
   "codemirror_mode": {
    "name": "ipython",
    "version": 3
   },
   "file_extension": ".py",
   "mimetype": "text/x-python",
   "name": "python",
   "nbconvert_exporter": "python",
   "pygments_lexer": "ipython3",
   "version": "3.9.12"
  }
 },
 "nbformat": 4,
 "nbformat_minor": 5
}
