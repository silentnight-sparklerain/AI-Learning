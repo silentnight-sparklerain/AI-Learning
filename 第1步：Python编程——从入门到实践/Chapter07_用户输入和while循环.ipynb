{
 "cells": [
  {
   "cell_type": "markdown",
   "id": "d881ff83",
   "metadata": {},
   "source": [
    "# 第七章：用户输入和while循环"
   ]
  },
  {
   "cell_type": "markdown",
   "id": "75b3da38",
   "metadata": {},
   "source": [
    "## 1.input()函数的工作原理"
   ]
  },
  {
   "cell_type": "markdown",
   "id": "ee731e6f",
   "metadata": {},
   "source": [
    "### 1.1 编写清晰的提示"
   ]
  },
  {
   "cell_type": "markdown",
   "id": "53a323f6",
   "metadata": {},
   "source": [
    "每当使用input()函数时，都应指定清晰易懂的提示，准确指出希望用户提供什么样的信息"
   ]
  },
  {
   "cell_type": "code",
   "execution_count": null,
   "id": "5928dc0b",
   "metadata": {},
   "outputs": [],
   "source": [
    "name = input(\"Please enter your name\")  # 运行后在最上方的输入框中输入信息\n",
    "print(f\"Hello, {name}\")"
   ]
  },
  {
   "cell_type": "markdown",
   "id": "5c94ce00",
   "metadata": {},
   "source": [
    "### 1.2 使用int()来获取数值输入"
   ]
  },
  {
   "cell_type": "markdown",
   "id": "babe611e",
   "metadata": {},
   "source": [
    "使用input()函数时，python会将用户输入解读为字符串，比如下面的例子："
   ]
  },
  {
   "cell_type": "code",
   "execution_count": null,
   "id": "10d094d0",
   "metadata": {},
   "outputs": [],
   "source": [
    "age = input(\"Please enter your age\")\n",
    "print(age)\n",
    "# print(age + 3)\n",
    "# 会报错，因为age是字符串类型，3是整型"
   ]
  },
  {
   "cell_type": "markdown",
   "id": "738798d7",
   "metadata": {},
   "source": [
    "使用int()函数，将输入的字符串转为数值"
   ]
  },
  {
   "cell_type": "code",
   "execution_count": null,
   "id": "824a6115",
   "metadata": {},
   "outputs": [],
   "source": [
    "age = input(\"Please enter your age\")\n",
    "age = int(age)\n",
    "print(age + 3)"
   ]
  },
  {
   "cell_type": "markdown",
   "id": "55655127",
   "metadata": {},
   "source": [
    "## 2.while循环简介"
   ]
  },
  {
   "cell_type": "markdown",
   "id": "28ecb789",
   "metadata": {},
   "source": [
    "### 2.1 使用while循环"
   ]
  },
  {
   "cell_type": "code",
   "execution_count": null,
   "id": "9838dbde",
   "metadata": {},
   "outputs": [],
   "source": [
    "current_number = 1\n",
    "while current_number <= 5:\n",
    "    print(current_number)\n",
    "    current_number += 1"
   ]
  },
  {
   "cell_type": "markdown",
   "id": "d83eda23",
   "metadata": {},
   "source": [
    "### 2.2 使用break"
   ]
  },
  {
   "cell_type": "code",
   "execution_count": null,
   "id": "d9392cdb",
   "metadata": {},
   "outputs": [],
   "source": [
    "numbers = list(range(100, 201))\n",
    "index = 1\n",
    "while True:\n",
    "    print(numbers[index])\n",
    "    if(numbers[index] == 120):\n",
    "        break\n",
    "    else:\n",
    "        index += 1"
   ]
  },
  {
   "cell_type": "markdown",
   "id": "2bed7947",
   "metadata": {},
   "source": [
    "### 2.3 使用continue"
   ]
  },
  {
   "cell_type": "code",
   "execution_count": null,
   "id": "74ec306b",
   "metadata": {},
   "outputs": [],
   "source": [
    "numbers = list(range(100, 201))\n",
    "index = 1\n",
    "while index < 100:\n",
    "    print(numbers[index])\n",
    "    if(numbers[index] > 180):\n",
    "        index += 1\n",
    "        continue\n",
    "    index += 10"
   ]
  }
 ],
 "metadata": {
  "kernelspec": {
   "display_name": "base",
   "language": "python",
   "name": "python3"
  },
  "language_info": {
   "codemirror_mode": {
    "name": "ipython",
    "version": 3
   },
   "file_extension": ".py",
   "mimetype": "text/x-python",
   "name": "python",
   "nbconvert_exporter": "python",
   "pygments_lexer": "ipython3",
   "version": "3.9.12"
  }
 },
 "nbformat": 4,
 "nbformat_minor": 5
}
