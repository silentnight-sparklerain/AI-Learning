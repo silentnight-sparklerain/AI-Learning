{
 "cells": [
  {
   "cell_type": "markdown",
   "id": "39869bff",
   "metadata": {},
   "source": [
    "# 第十章：文件和异常"
   ]
  },
  {
   "cell_type": "markdown",
   "id": "cdc73699",
   "metadata": {},
   "source": [
    "## 1.读取文件"
   ]
  },
  {
   "cell_type": "markdown",
   "id": "fdc59cd2",
   "metadata": {},
   "source": [
    "### 1.1 读取文件的全部内容"
   ]
  },
  {
   "cell_type": "markdown",
   "id": "0d96a0d5",
   "metadata": {},
   "source": [
    "要使用文件的内容，需要将其路径告知python。路径指的是文件或文件夹在系统中的准确位置。python提供了pathlib模块，让你能够更轻松的在各种操作系统中处理文件和目录。"
   ]
  },
  {
   "cell_type": "markdown",
   "id": "60a4b293",
   "metadata": {},
   "source": [
    "提供特定功能的模块称为库（library）"
   ]
  },
  {
   "cell_type": "code",
   "execution_count": null,
   "id": "8522c690",
   "metadata": {},
   "outputs": [],
   "source": [
    "from pathlib import Path\n",
    "\n",
    "path = Path('Chapter10_pi_digits.txt')\n",
    "contents = path.read_text()\n",
    "print(contents)"
   ]
  },
  {
   "cell_type": "markdown",
   "id": "53df6674",
   "metadata": {},
   "source": [
    "这里首先从pathlib模块导入Path类。Path对象指向一个文件，可以用来做很多事情。这里创建一个表示文件的 pi_digits.txt 的Path对象，并将其赋给了变量path。由于这个文件与当前编写的文件位于同一个目录中，因此Path只需要知道文件名就能访问它。"
   ]
  },
  {
   "cell_type": "markdown",
   "id": "bc3398db",
   "metadata": {},
   "source": [
    "创建好表示文件 pi_digits.txt 的Path对象后，使用read_text()方法来读取这个文件的全部内容。read_txt()将该文件的全部内容作为一个字符串返回，而我们将这个字符串赋给了变量contents。在打印contents的值时，将显示文本所有内容。"
   ]
  },
  {
   "cell_type": "markdown",
   "id": "a1ca0392",
   "metadata": {},
   "source": [
    "read_txt()在到达文件夹末尾时会返回一个空字符串，这个字符串会被显示为一个空行。要删除这个空行，可对字符串变量contents使用rstrip()"
   ]
  },
  {
   "cell_type": "code",
   "execution_count": null,
   "id": "7cf97e4d",
   "metadata": {},
   "outputs": [],
   "source": [
    "from pathlib import Path\n",
    "\n",
    "path = Path('Chapter10_pi_digits.txt')\n",
    "contents = path.read_text().rstrip()\n",
    "print(contents)"
   ]
  },
  {
   "cell_type": "markdown",
   "id": "fad24f91",
   "metadata": {},
   "source": [
    "### 1.2 相对文件路径和绝对文件路径"
   ]
  },
  {
   "cell_type": "markdown",
   "id": "db0280ff",
   "metadata": {},
   "source": [
    "相对文件路径让python到当前程序运行的所在目录的位置去找，绝对文件路径是文件在计算机中的具体位置。"
   ]
  },
  {
   "cell_type": "markdown",
   "id": "7711971b",
   "metadata": {},
   "source": [
    "### 1.3 访问文件中的各行"
   ]
  },
  {
   "cell_type": "markdown",
   "id": "1f25858c",
   "metadata": {},
   "source": [
    "可以使用splitlines()方法将冗长的字符串转换为一系列行，再使用for循环以每次一行的方式检查文件中的各行"
   ]
  },
  {
   "cell_type": "code",
   "execution_count": null,
   "id": "2976e784",
   "metadata": {},
   "outputs": [],
   "source": [
    "from pathlib import Path\n",
    "\n",
    "path = Path('Chapter10_pi_digits.txt')\n",
    "contents = path.read_text()\n",
    "\n",
    "lines = contents.splitlines()\n",
    "for line in lines:\n",
    "    print(line)\n",
    "    print('\\n')"
   ]
  },
  {
   "cell_type": "markdown",
   "id": "746a8ffe",
   "metadata": {},
   "source": [
    "## 2.写入文件"
   ]
  },
  {
   "cell_type": "markdown",
   "id": "49ac5ace",
   "metadata": {},
   "source": [
    "### 2.1 写入一行"
   ]
  },
  {
   "cell_type": "markdown",
   "id": "ff16a050",
   "metadata": {},
   "source": [
    "定义一个文件的路径之后，就可以使用write_text()将数据写入文件了。下面将一条消息存储到文件中，而不是将其打印在屏幕上："
   ]
  },
  {
   "cell_type": "code",
   "execution_count": null,
   "id": "44c84398",
   "metadata": {},
   "outputs": [],
   "source": [
    "from pathlib import Path\n",
    "\n",
    "path = Path('Chapter10_write_file.txt')\n",
    "path.write_text(\"第十章第二节写入文件\")"
   ]
  },
  {
   "cell_type": "markdown",
   "id": "f38f144f",
   "metadata": {},
   "source": [
    "运行之后会发现程序建立了一个新文件，文件的内容就是“第十章第二节写入文件”"
   ]
  },
  {
   "cell_type": "markdown",
   "id": "26f3e9b7",
   "metadata": {},
   "source": [
    "### 2.2 写入多行"
   ]
  },
  {
   "cell_type": "code",
   "execution_count": null,
   "id": "f611f74d",
   "metadata": {},
   "outputs": [],
   "source": [
    "from pathlib import Path\n",
    "\n",
    "path = Path('Chapter10_write_file.txt')\n",
    "path.write_text(\"第十章第二节写入文件，第一行\\n\")\n",
    "\n",
    "contents = \"第十章第二节写入文件，第二行\\n\"\n",
    "contents += \"第十章第二节写入文件，第三行\\n\"\n",
    "contents += \"第十章第二节写入文件，第四行\\n\"\n",
    "path.write_text(contents)"
   ]
  },
  {
   "cell_type": "markdown",
   "id": "e45ea1b7",
   "metadata": {},
   "source": [
    "程序不会在文件中写入“第十章第二节写入文件，第一行”。当你连续调用 write_text() 时，第二次调用会覆盖第一次写入的内容，而不是追加到文件末尾。"
   ]
  },
  {
   "cell_type": "markdown",
   "id": "2a575779",
   "metadata": {},
   "source": [
    "第二次可以使用追加模式写入，这样就不会覆盖第一次写入的内容"
   ]
  },
  {
   "cell_type": "code",
   "execution_count": null,
   "id": "b94f9b0d",
   "metadata": {},
   "outputs": [],
   "source": [
    "from pathlib import Path\n",
    "\n",
    "path = Path('Chapter10_write_file.txt')\n",
    "\n",
    "# 第一次写入\n",
    "path.write_text(\"第十章第二节写入文件，第一行\\n\")\n",
    "\n",
    "# 第二次以追加模式写入\n",
    "contents = \"第十章第二节写入文件，第二行\\n\"\n",
    "contents += \"第十章第二节写入文件，第三行\\n\"\n",
    "contents += \"第十章第二节写入文件，第四行\\n\"\n",
    "\n",
    "with path.open('a', encoding='utf-8') as f:\n",
    "    f.write(contents)"
   ]
  },
  {
   "cell_type": "markdown",
   "id": "31b01a88",
   "metadata": {},
   "source": [
    "## 3.异常"
   ]
  },
  {
   "cell_type": "markdown",
   "id": "b1db3604",
   "metadata": {},
   "source": [
    "### 3.1 处理ZeroDivisionError异常"
   ]
  },
  {
   "cell_type": "code",
   "execution_count": null,
   "id": "c455edc1",
   "metadata": {},
   "outputs": [],
   "source": [
    "print(5/0)"
   ]
  },
  {
   "cell_type": "markdown",
   "id": "4d6c9bc9",
   "metadata": {},
   "source": [
    "python无法这样做，因此你会看到一个traceback，给出这个异常对象的描述信息。python在无法按照你的要求做的时候，就会创建这种对象。在这种情况下，python将停止运行程序，并指出引发了哪种异常。"
   ]
  },
  {
   "cell_type": "markdown",
   "id": "7ae90ea8",
   "metadata": {},
   "source": [
    "### 3.2 使用try-except代码块"
   ]
  },
  {
   "cell_type": "markdown",
   "id": "2de7dde4",
   "metadata": {},
   "source": [
    "当你认为可能发生错误时，可编写一个try-except代码块来处理可能引发的异常。你让python尝试运行特定代码，并告诉它如果这些代码引发了指定的异常，该怎么办。"
   ]
  },
  {
   "cell_type": "code",
   "execution_count": null,
   "id": "12000021",
   "metadata": {},
   "outputs": [],
   "source": [
    "try:\n",
    "    print(5/0)\n",
    "except ZeroDivisionError:\n",
    "    print(\"You can't divide by zero!\")"
   ]
  },
  {
   "cell_type": "markdown",
   "id": "6d7afa60",
   "metadata": {},
   "source": [
    "### 3.3 else代码块"
   ]
  },
  {
   "cell_type": "markdown",
   "id": "48387571",
   "metadata": {},
   "source": [
    "只有try代码成功执行才需要继续执行的代码，都应放到else代码块中"
   ]
  },
  {
   "cell_type": "code",
   "execution_count": null,
   "id": "b98fbd76",
   "metadata": {},
   "outputs": [],
   "source": [
    "print(\"Give me two numbers, and I'll divide them.\")\n",
    "print(\"Enter 'q' to quit.\")\n",
    "while(True):\n",
    "    first_number = input(\"\\nFirst number: \")\n",
    "    if first_number == 'q':\n",
    "        break\n",
    "    second_number = input(\"\\nSecond number: \")\n",
    "    if second_number == 'q':\n",
    "        break\n",
    "    try:\n",
    "        answer = int(first_number) / int(second_number)\n",
    "    except ZeroDivisionError:\n",
    "        print(\"You can't divide by 0!\")\n",
    "    else:\n",
    "        print(answer)"
   ]
  },
  {
   "cell_type": "markdown",
   "id": "b46e3e77",
   "metadata": {},
   "source": [
    "### 3.4 处理FileNotFoundError异常"
   ]
  },
  {
   "cell_type": "code",
   "execution_count": null,
   "id": "3744502c",
   "metadata": {},
   "outputs": [],
   "source": [
    "from pathlib import Path\n",
    "\n",
    "path = Path('file_not_found_error.txt')  # 文件夹中并没有这个文件，因此会返回一个traceback报错\n",
    "try:\n",
    "    contents = path.read_text(encoding = 'utf-8')  # 如果系统的默认编码与要读取的文件的编码不一致，参数encoding必不可少\n",
    "except:\n",
    "    print(f\"Sorry, the file {path} doesn't exist.\")"
   ]
  },
  {
   "cell_type": "markdown",
   "id": "038d7bcf",
   "metadata": {},
   "source": [
    "### 3.5 分析文本"
   ]
  },
  {
   "cell_type": "markdown",
   "id": "36b1d13a",
   "metadata": {},
   "source": [
    "下面来提取童话Alice in Wonderland的文本，并尝试计算它包含多少个单词。使用split()方法，它默认以空白为分隔符将字符串分拆成多个部分。"
   ]
  },
  {
   "cell_type": "code",
   "execution_count": null,
   "id": "01efe3d6",
   "metadata": {},
   "outputs": [],
   "source": [
    "from pathlib import Path\n",
    "\n",
    "path = Path('Chapter10_Alice_in_Wonderland.txt')\n",
    "try:\n",
    "    contents = path.read_text(encoding = 'utf-8')\n",
    "except:\n",
    "    print(f\"Sorry, the file {path} doesn't exist.\")\n",
    "else:\n",
    "    words = contents.split()\n",
    "    num_words = len(words)\n",
    "    print(f\"The file {path} has about {num_words} words.\")"
   ]
  },
  {
   "cell_type": "markdown",
   "id": "d56f10e2",
   "metadata": {},
   "source": [
    "### 3.6 使用多个文件"
   ]
  },
  {
   "cell_type": "markdown",
   "id": "c7fde2bc",
   "metadata": {},
   "source": [
    "下面分析几本书。将计算Alice in Wonderland，Little Woman，Moby Dick，Siddhartha分别包含多少个单词（Siddhartha不在目录中，以便展示这个程序在文件不存在时怎么应对）"
   ]
  },
  {
   "cell_type": "code",
   "execution_count": null,
   "id": "b3a2a36d",
   "metadata": {},
   "outputs": [],
   "source": [
    "from pathlib import Path\n",
    "\n",
    "def count_words(path):\n",
    "    \"\"\"计算一个文件包含多少个单词\"\"\"\n",
    "    try:\n",
    "        contents = path.read_text(encoding='utf-8')\n",
    "    except FileNotFoundError:\n",
    "        pass  # 让python什么都不做，直接跳过\n",
    "    else:\n",
    "        words = contents.split()\n",
    "        num_words = len(words)\n",
    "        print(f\"The file {path} has about {num_words} words.\")\n",
    "\n",
    "filenames = ['Chapter10_Alice_in_Wonderland.txt', 'Chapter10_Siddhartha.txt', 'Chapter10_Moby_Dick.txt', 'Chapter10_Little_Women.txt']\n",
    "for filename in filenames:\n",
    "    path = Path(filename)\n",
    "    count_words(path)"
   ]
  },
  {
   "cell_type": "markdown",
   "id": "046d4350",
   "metadata": {},
   "source": [
    "## 4.存储数据"
   ]
  },
  {
   "cell_type": "markdown",
   "id": "3502248e",
   "metadata": {},
   "source": [
    "模块json让你能够将简单的python数据结构转换为JSON格式的字符串，并在程序再次运行时从文件中加载数据。你还可以使用json在python程序之间共享数据。"
   ]
  },
  {
   "cell_type": "markdown",
   "id": "f8bec649",
   "metadata": {},
   "source": [
    "### 4.1 使用json.dumps()和json.loads()"
   ]
  },
  {
   "cell_type": "code",
   "execution_count": null,
   "id": "cf7916f3",
   "metadata": {},
   "outputs": [],
   "source": [
    "from pathlib import Path\n",
    "import json\n",
    "\n",
    "numbers = [2,3,5,7,11,13]\n",
    "\n",
    "path = Path('numbers.json')\n",
    "contents = json.dumps(numbers)\n",
    "path.write_text(contents)"
   ]
  },
  {
   "cell_type": "markdown",
   "id": "dea8714a",
   "metadata": {},
   "source": [
    "首先导入模块json，并创建一个数值列表。然后选择一个文件名，指定要将该数值列表存储到哪个文件中。通常使用文件扩展名为.json来指出文件存储的数据为JSON格式。接下来使用json.dumps()函数生成一个字符串，它包含我们要存储的数据的JSON表示形式。生成这个字符串之后，使用write_text()的方法将其写入文件。"
   ]
  },
  {
   "cell_type": "markdown",
   "id": "ee2a31df",
   "metadata": {},
   "source": [
    "这个程序没有输出，打开文件numbers.json，会发现该文件中数据的存储格式看起来与python中的一样。"
   ]
  },
  {
   "cell_type": "markdown",
   "id": "b5045622",
   "metadata": {},
   "source": [
    "下面再编写一个程序，使用json.loads()将列表读取到内存中。"
   ]
  },
  {
   "cell_type": "code",
   "execution_count": null,
   "id": "9122d81d",
   "metadata": {},
   "outputs": [],
   "source": [
    "from pathlib import Path\n",
    "import json\n",
    "\n",
    "path = Path('numbers.json')\n",
    "contents = path.read_text()\n",
    "numbers = json.loads(contents)\n",
    "\n",
    "print(numbers)"
   ]
  },
  {
   "cell_type": "markdown",
   "id": "ad33dba1",
   "metadata": {},
   "source": [
    "使用read_text()方法来读取它，然后将这个文件的内容传递给json.loads()。这个函数将一个JSON格式的字符串作为参数，返回一个python对象（这里是列表）。"
   ]
  },
  {
   "cell_type": "markdown",
   "id": "d9d25157",
   "metadata": {},
   "source": [
    "这是一种在程序之间共享数据的简单方式。"
   ]
  },
  {
   "cell_type": "markdown",
   "id": "e528ca6a",
   "metadata": {},
   "source": [
    "### 4.2 保存和读取用户生成的数据"
   ]
  },
  {
   "cell_type": "code",
   "execution_count": null,
   "id": "fd4b92a7",
   "metadata": {},
   "outputs": [],
   "source": [
    "from pathlib import Path\n",
    "import json\n",
    "\n",
    "path = Path('username.json')\n",
    "\n",
    "if path.exists():\n",
    "    contents = path.read_text()\n",
    "    user_name = json.loads(contents)\n",
    "    print(f\"Welcome back, {user_name}!\")\n",
    "else:\n",
    "    user_name = input(\"What's your name?\")\n",
    "    contents = json.dumps(user_name)\n",
    "    path.write_text(contents)\n",
    "    print(f\"We'll remember you when you come back, {user_name}!\")"
   ]
  },
  {
   "cell_type": "markdown",
   "id": "e9e2cfca",
   "metadata": {},
   "source": [
    "程序首次运行，会提示用户输入姓名，并将姓名存储在文件 username.json 中。再次运行会打印一句问候语。"
   ]
  }
 ],
 "metadata": {
  "kernelspec": {
   "display_name": "base",
   "language": "python",
   "name": "python3"
  },
  "language_info": {
   "codemirror_mode": {
    "name": "ipython",
    "version": 3
   },
   "file_extension": ".py",
   "mimetype": "text/x-python",
   "name": "python",
   "nbconvert_exporter": "python",
   "pygments_lexer": "ipython3",
   "version": "3.9.12"
  }
 },
 "nbformat": 4,
 "nbformat_minor": 5
}
