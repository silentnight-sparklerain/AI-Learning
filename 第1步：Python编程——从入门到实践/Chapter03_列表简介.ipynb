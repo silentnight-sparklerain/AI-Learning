{
 "cells": [
  {
   "cell_type": "markdown",
   "id": "9f13aebd",
   "metadata": {},
   "source": [
    "# 第三章：列表简介"
   ]
  },
  {
   "cell_type": "markdown",
   "id": "38253fad",
   "metadata": {},
   "source": [
    "## 1.列表是什么"
   ]
  },
  {
   "cell_type": "markdown",
   "id": "23c57365",
   "metadata": {},
   "source": [
    "### 1.1 创建列表"
   ]
  },
  {
   "cell_type": "code",
   "execution_count": null,
   "id": "40a4de07",
   "metadata": {},
   "outputs": [],
   "source": [
    "bicycles = ['trek', 'cannondale', 'redline', 'specialized']\n",
    "print(bicycles)\n",
    "print(bicycles[0])  #访问第一个元素\n",
    "print(bicycles[1].title())\n",
    "print(bicycles[-1])  #访问最后一个元素"
   ]
  },
  {
   "cell_type": "markdown",
   "id": "b02cbafb",
   "metadata": {},
   "source": [
    "### 1.2 修改、添加、删除元素"
   ]
  },
  {
   "cell_type": "markdown",
   "id": "678d50a6",
   "metadata": {},
   "source": [
    "修改、添加元素"
   ]
  },
  {
   "cell_type": "code",
   "execution_count": null,
   "id": "dab44098",
   "metadata": {},
   "outputs": [
    {
     "name": "stdout",
     "output_type": "stream",
     "text": [
      "['aaa', 'bbb', 'ccc']\n",
      "['ddd', 'bbb', 'ccc']\n",
      "['ddd', 'bbb', 'ccc', 'eee']\n",
      "['ddd', 'fff', 'bbb', 'ccc', 'eee']\n",
      "['fff', 'bbb', 'ccc', 'eee']\n",
      "eee\n",
      "['fff', 'bbb', 'ccc']\n"
     ]
    }
   ],
   "source": [
    "letter = ['aaa', 'bbb', 'ccc']\n",
    "print(letter)\n",
    "letter[0] = 'ddd'\n",
    "print(letter)\n",
    "\n",
    "letter.append('eee')  #在列表末尾添加元素\n",
    "print(letter)\n",
    "letter.insert(1, 'fff')  #在列表指定位置添加元素\n",
    "print(letter)"
   ]
  },
  {
   "cell_type": "markdown",
   "id": "0e0742ef",
   "metadata": {},
   "source": [
    "删除列表中任意位置元素"
   ]
  },
  {
   "cell_type": "code",
   "execution_count": 2,
   "id": "390e8302",
   "metadata": {},
   "outputs": [
    {
     "name": "stdout",
     "output_type": "stream",
     "text": [
      "['bbb', 'ccc', 'ddd', 'eee']\n",
      "eee\n",
      "['bbb', 'ccc', 'ddd']\n",
      "ddd\n",
      "['bbb', 'ccc']\n"
     ]
    }
   ],
   "source": [
    "letter = ['aaa', 'bbb', 'ccc', 'ddd', 'eee']\n",
    "del letter[0]  #删除指定位置元素（使用del删除是永久删除）\n",
    "print(letter)  \n",
    "last_letter = letter.pop()  #永久删除最后一个元素并返回其值\n",
    "print(last_letter)\n",
    "print(letter)\n",
    "\n",
    "third_letter = letter.pop(2)  #删除第三个元素并返回其值\n",
    "print(third_letter)\n",
    "print(letter)"
   ]
  },
  {
   "cell_type": "markdown",
   "id": "3bbfe185",
   "metadata": {},
   "source": [
    "根据值删除元素"
   ]
  },
  {
   "cell_type": "code",
   "execution_count": 4,
   "id": "c4249142",
   "metadata": {},
   "outputs": [
    {
     "name": "stdout",
     "output_type": "stream",
     "text": [
      "['aaa', 'ccc', 'ddd', 'eee']\n",
      "ccc\n",
      "['aaa', 'ddd', 'eee']\n"
     ]
    }
   ],
   "source": [
    "letter = ['aaa', 'bbb', 'ccc', 'ddd', 'eee']\n",
    "letter.remove('bbb')\n",
    "print(letter)\n",
    "\n",
    "to_delete = 'ccc'\n",
    "letter.remove(to_delete)\n",
    "print(to_delete)\n",
    "print(letter)"
   ]
  },
  {
   "cell_type": "markdown",
   "id": "9c6db864",
   "metadata": {},
   "source": [
    "## 2.管理列表"
   ]
  },
  {
   "cell_type": "markdown",
   "id": "54bbc164",
   "metadata": {},
   "source": [
    "### 2.1 使用sort()方法对列表进行永久排序"
   ]
  },
  {
   "cell_type": "code",
   "execution_count": 5,
   "id": "3c56462e",
   "metadata": {},
   "outputs": [
    {
     "name": "stdout",
     "output_type": "stream",
     "text": [
      "['ccc', 'kkk', 'ppp', 'sss', 'ttt', 'uuu']\n"
     ]
    }
   ],
   "source": [
    "letter = ['ppp', 'kkk', 'uuu', 'sss', 'ccc', 'ttt']\n",
    "letter.sort()\n",
    "print(letter)"
   ]
  },
  {
   "cell_type": "markdown",
   "id": "f2433871",
   "metadata": {},
   "source": [
    "### 2.2 使用sorted()函数对列表进行临时排序"
   ]
  },
  {
   "cell_type": "code",
   "execution_count": 6,
   "id": "df29eac4",
   "metadata": {},
   "outputs": [
    {
     "name": "stdout",
     "output_type": "stream",
     "text": [
      "['ccc', 'kkk', 'ppp', 'sss', 'ttt', 'uuu']\n",
      "['ppp', 'kkk', 'uuu', 'sss', 'ccc', 'ttt']\n"
     ]
    }
   ],
   "source": [
    "letter = ['ppp', 'kkk', 'uuu', 'sss', 'ccc', 'ttt']\n",
    "print(sorted(letter))\n",
    "print(letter)"
   ]
  },
  {
   "cell_type": "markdown",
   "id": "88f1d829",
   "metadata": {},
   "source": [
    "### 2.3 使用reverse()方法反向打印列表"
   ]
  },
  {
   "cell_type": "code",
   "execution_count": 7,
   "id": "5af979e9",
   "metadata": {},
   "outputs": [
    {
     "name": "stdout",
     "output_type": "stream",
     "text": [
      "['ppp', 'kkk', 'uuu', 'sss', 'ccc', 'ttt']\n",
      "['ttt', 'ccc', 'sss', 'uuu', 'kkk', 'ppp']\n"
     ]
    }
   ],
   "source": [
    "letter = ['ppp', 'kkk', 'uuu', 'sss', 'ccc', 'ttt']\n",
    "print(letter)\n",
    "letter.reverse()\n",
    "print(letter)"
   ]
  },
  {
   "cell_type": "markdown",
   "id": "f66a7bd3",
   "metadata": {},
   "source": [
    "### 2.4 使用len()函数确定列表的长度"
   ]
  },
  {
   "cell_type": "code",
   "execution_count": 9,
   "id": "9a49e0fb",
   "metadata": {},
   "outputs": [
    {
     "name": "stdout",
     "output_type": "stream",
     "text": [
      "6\n"
     ]
    }
   ],
   "source": [
    "letter = ['ppp', 'kkk', 'uuu', 'sss', 'ccc', 'ttt']\n",
    "length = len(letter)\n",
    "print(length)"
   ]
  }
 ],
 "metadata": {
  "kernelspec": {
   "display_name": "base",
   "language": "python",
   "name": "python3"
  },
  "language_info": {
   "codemirror_mode": {
    "name": "ipython",
    "version": 3
   },
   "file_extension": ".py",
   "mimetype": "text/x-python",
   "name": "python",
   "nbconvert_exporter": "python",
   "pygments_lexer": "ipython3",
   "version": "3.9.12"
  }
 },
 "nbformat": 4,
 "nbformat_minor": 5
}
