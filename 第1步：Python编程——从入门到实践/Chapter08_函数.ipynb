{
 "cells": [
  {
   "cell_type": "markdown",
   "id": "d49d3032",
   "metadata": {},
   "source": [
    "# 第八章：函数"
   ]
  },
  {
   "cell_type": "markdown",
   "id": "104a9a7a",
   "metadata": {},
   "source": [
    "## 1.定义函数"
   ]
  },
  {
   "cell_type": "markdown",
   "id": "a6d7e2da",
   "metadata": {},
   "source": [
    "### 1.1 简单函数举例"
   ]
  },
  {
   "cell_type": "code",
   "execution_count": null,
   "id": "2217dd80",
   "metadata": {},
   "outputs": [],
   "source": [
    "def Greeting():\n",
    "    \"\"\"问候函数\"\"\"\n",
    "    print(\"Hello\")\n",
    "\n",
    "Greeting()"
   ]
  },
  {
   "cell_type": "markdown",
   "id": "5b1ef5f6",
   "metadata": {},
   "source": [
    "### 1.2 向函数传递信息"
   ]
  },
  {
   "cell_type": "code",
   "execution_count": null,
   "id": "db738264",
   "metadata": {},
   "outputs": [],
   "source": [
    "def Greeting(name):\n",
    "    \"\"\"问候函数\"\"\"\n",
    "    print(f\"Hello, {name}!\")\n",
    "\n",
    "name = input(\"Please enter your name\")\n",
    "Greeting(name)"
   ]
  },
  {
   "cell_type": "markdown",
   "id": "6e620102",
   "metadata": {},
   "source": [
    "## 2.传递实参"
   ]
  },
  {
   "cell_type": "markdown",
   "id": "4e428dad",
   "metadata": {},
   "source": [
    "### 2.1 位置实参"
   ]
  },
  {
   "cell_type": "markdown",
   "id": "4d2e2a85",
   "metadata": {},
   "source": [
    "在调用函数时，python必须将函数调用中的每个实参关联到函数定义中的一个形参。最简单的方式是基于实参的顺序进行关联，以这种方式关联的实参称为位置实参"
   ]
  },
  {
   "cell_type": "code",
   "execution_count": null,
   "id": "8b53551a",
   "metadata": {},
   "outputs": [],
   "source": [
    "def Describe_Pet(Animal_Type, Pet_Name):\n",
    "    \"\"\"显示宠物的信息\"\"\"\n",
    "    print(f\"I have a {Animal_Type}, its name is {Pet_Name}\")\n",
    "\n",
    "Describe_Pet('dog', 'Harry')\n",
    "Describe_Pet('cat', 'Kitty')"
   ]
  },
  {
   "cell_type": "markdown",
   "id": "8fe5617a",
   "metadata": {},
   "source": [
    "### 2.2 关键字实参"
   ]
  },
  {
   "cell_type": "markdown",
   "id": "db3a3426",
   "metadata": {},
   "source": [
    "关键字实参是传递给函数的名值对（name-value pair）。这样会直接在实参中将名称与值相关联起来，因此向函数传递参数时就不会混淆了。关键字传参无需考虑顺序，而且清楚的知道每个值的用途。"
   ]
  },
  {
   "cell_type": "code",
   "execution_count": null,
   "id": "1b613d82",
   "metadata": {},
   "outputs": [],
   "source": [
    "def Describe_Pet(Animal_Type, Pet_Name):\n",
    "    \"\"\"显示宠物的信息\"\"\"\n",
    "    print(f\"I have a {Animal_Type}, its name is {Pet_Name}\")\n",
    "\n",
    "Describe_Pet(Animal_Type = 'cat', Pet_Name = 'Kitty')\n",
    "Describe_Pet(Pet_Name = 'Harry', Animal_Type = 'dog')"
   ]
  },
  {
   "cell_type": "markdown",
   "id": "c5e8d62a",
   "metadata": {},
   "source": [
    "### 2.3 默认值"
   ]
  },
  {
   "cell_type": "markdown",
   "id": "b3fcf347",
   "metadata": {},
   "source": [
    "编写函数时，可以给每个形参指定默认值。如果在调用函数时给形参提供了实参，python会使用指定的实参值；否则将使用默认的形参值。"
   ]
  },
  {
   "cell_type": "code",
   "execution_count": null,
   "id": "895be7cb",
   "metadata": {},
   "outputs": [],
   "source": [
    "def Describe_Pet(Animal_Type = 'dog', Pet_Name = 'Harry'):\n",
    "    \"\"\"显示宠物的信息\"\"\"\n",
    "    print(f\"I have a {Animal_Type}, its name is {Pet_Name}\")\n",
    "\n",
    "Describe_Pet(Animal_Type = 'cat', Pet_Name = 'Kitty')\n",
    "Describe_Pet()"
   ]
  },
  {
   "cell_type": "markdown",
   "id": "14a4b47f",
   "metadata": {},
   "source": [
    "## 3.返回值"
   ]
  },
  {
   "cell_type": "markdown",
   "id": "07fd8482",
   "metadata": {},
   "source": [
    "### 3.1 返回简单的值"
   ]
  },
  {
   "cell_type": "code",
   "execution_count": null,
   "id": "67a342ad",
   "metadata": {},
   "outputs": [],
   "source": [
    "def Scores_Pair(subject, score):\n",
    "    \"\"\"返回学科与分数\"\"\"\n",
    "    pair = {subject:score}\n",
    "    return pair\n",
    "\n",
    "Pair1 = Scores_Pair('Math', 90)\n",
    "print(Pair1)  # Pair1是字典类型"
   ]
  },
  {
   "cell_type": "markdown",
   "id": "50f01b77",
   "metadata": {},
   "source": [
    "### 3.2 使用return结束函数的调用"
   ]
  },
  {
   "cell_type": "code",
   "execution_count": null,
   "id": "febc9bd0",
   "metadata": {},
   "outputs": [],
   "source": [
    "def Test(num):\n",
    "    ret = 0\n",
    "    if num == 1:\n",
    "        print(\"num = 1\")\n",
    "        return\n",
    "    if num == 2:\n",
    "        print(\"num = 2\")\n",
    "    if num >= 1:\n",
    "        print(\"num >= 1\")\n",
    "    \n",
    "Test(2)"
   ]
  },
  {
   "cell_type": "markdown",
   "id": "2aa22101",
   "metadata": {},
   "source": [
    "## 4.传递列表"
   ]
  },
  {
   "cell_type": "markdown",
   "id": "5e404377",
   "metadata": {},
   "source": [
    "### 4.1 在函数中修改列表"
   ]
  },
  {
   "cell_type": "code",
   "execution_count": null,
   "id": "ed0fb993",
   "metadata": {},
   "outputs": [],
   "source": [
    "def Modify(nums):\n",
    "    nums.sort()\n",
    "\n",
    "nums = [7,4,2,6,5,8,1,9]\n",
    "print(nums)\n",
    "Modify(nums)\n",
    "print(nums)"
   ]
  },
  {
   "cell_type": "markdown",
   "id": "b7fa895a",
   "metadata": {},
   "source": [
    "### 4.2 禁止函数修改列表"
   ]
  },
  {
   "cell_type": "code",
   "execution_count": null,
   "id": "aef3f9ff",
   "metadata": {},
   "outputs": [],
   "source": [
    "def Prohibit(nums):\n",
    "    nums.sort()\n",
    "\n",
    "nums = [7,4,2,6,5,8,1,9]\n",
    "print(nums)\n",
    "Prohibit(nums[:])\n",
    "print(nums)"
   ]
  },
  {
   "cell_type": "markdown",
   "id": "59bb3f7f",
   "metadata": {},
   "source": [
    "切片表示法 [:] 创建列表的副本。在函数中修改的是副本的值，不影响原列表的值。"
   ]
  },
  {
   "cell_type": "markdown",
   "id": "6c33c236",
   "metadata": {},
   "source": [
    "## 5.传递任意数量的实参"
   ]
  },
  {
   "cell_type": "markdown",
   "id": "a900e058",
   "metadata": {},
   "source": [
    "### 5.1 举例"
   ]
  },
  {
   "cell_type": "code",
   "execution_count": null,
   "id": "b7d8e657",
   "metadata": {},
   "outputs": [],
   "source": [
    "def PrintArray(*numbers):\n",
    "    \"\"\"打印传进来的数\"\"\"\n",
    "    print(numbers)\n",
    "\n",
    "PrintArray(3,5,6,7,1,2,5,3,5,3,9)\n",
    "PrintArray(7,4,6,7,3,5,2,6)\n",
    "PrintArray(2)"
   ]
  },
  {
   "cell_type": "markdown",
   "id": "c917d6a5",
   "metadata": {},
   "source": [
    "形参名 *numbers 中的星号让python创建了一个名为 numbers 的元组，该元组包含函数收到的所有值。"
   ]
  },
  {
   "cell_type": "markdown",
   "id": "b5bf0c0a",
   "metadata": {},
   "source": [
    "### 5.2 结合使用位置实参和任意数量的实参"
   ]
  },
  {
   "cell_type": "code",
   "execution_count": null,
   "id": "55cc65b8",
   "metadata": {},
   "outputs": [],
   "source": [
    "def PrintArray(name, *parts):\n",
    "    \"\"\"打印每一部分的内容\"\"\"\n",
    "    print(name)\n",
    "    i = 1\n",
    "    for part in parts:\n",
    "        print(f\"Part{i}: {part}\")\n",
    "        i += 1\n",
    "\n",
    "PrintArray('Odds', 1, 3, 5, 7, 9)\n",
    "PrintArray('Even', 2, 4, 6)"
   ]
  },
  {
   "cell_type": "markdown",
   "id": "fb597cc5",
   "metadata": {},
   "source": [
    "### 5.3 使用任意数量的关键字实参"
   ]
  },
  {
   "cell_type": "markdown",
   "id": "3ebf0b0f",
   "metadata": {},
   "source": [
    "有时候，你需要接受任意数量的实参，但预先不知道传递给函数的会是什么样的信息。在这种情况下，可将函数编写成能够接受任意数量的键值对。"
   ]
  },
  {
   "cell_type": "code",
   "execution_count": null,
   "id": "c715b3ce",
   "metadata": {},
   "outputs": [],
   "source": [
    "def Build_Profile(first, last, **user_info):\n",
    "    \"\"\"创建一个字典，其中包含我们知道的用户的一切\"\"\"\n",
    "    user_info['first_name'] = first\n",
    "    user_info['last_name'] = last\n",
    "    return user_info\n",
    "\n",
    "user_profile = Build_Profile('Albert', 'Einstein', location = 'Princeton', field = 'Physics')\n",
    "print(user_profile)"
   ]
  },
  {
   "cell_type": "markdown",
   "id": "9e6acf45",
   "metadata": {},
   "source": [
    "形参**user_info中的两个星号让python创建一个名为user_info的字典，该字典包含函数收到的其他所有键值对。"
   ]
  },
  {
   "cell_type": "markdown",
   "id": "adda966e",
   "metadata": {},
   "source": [
    "## 6.将函数存储在模块中"
   ]
  },
  {
   "cell_type": "markdown",
   "id": "b59b2616",
   "metadata": {},
   "source": [
    "### 6.1 导入整个模块"
   ]
  },
  {
   "cell_type": "markdown",
   "id": "19174a92",
   "metadata": {},
   "source": [
    "模块是扩展名为.py的文件，包含程序要导入的代码"
   ]
  },
  {
   "cell_type": "code",
   "execution_count": null,
   "id": "1d6db66a",
   "metadata": {},
   "outputs": [],
   "source": [
    "import Chapter08_module as p8  # 使用as给模块起别名\n",
    "p8.Function1()"
   ]
  },
  {
   "cell_type": "markdown",
   "id": "d73ac447",
   "metadata": {},
   "source": [
    "使用这种方法导入整个模块，就用这种语法来使用模块中的任意一个函数: module_name.function_name()"
   ]
  },
  {
   "cell_type": "markdown",
   "id": "8cdfc95b",
   "metadata": {},
   "source": [
    "### 6.2 导入特定函数"
   ]
  },
  {
   "cell_type": "markdown",
   "id": "6be88a88",
   "metadata": {},
   "source": [
    "还可以只导入模块中的特定函数，语法：from module_name import function_name"
   ]
  },
  {
   "cell_type": "code",
   "execution_count": null,
   "id": "0749b708",
   "metadata": {},
   "outputs": [],
   "source": [
    "from Chapter08_module import Function2_1, Function2_2\n",
    "from Chapter08_module import Function2_3 as F2_3  #使用as给函数起别名\n",
    "Function2_1()\n",
    "Function2_2()\n",
    "F2_3()"
   ]
  },
  {
   "cell_type": "markdown",
   "id": "20e1b382",
   "metadata": {},
   "source": [
    "### 6.3 导入模块中所有函数"
   ]
  },
  {
   "cell_type": "markdown",
   "id": "442499d5",
   "metadata": {},
   "source": [
    "使用星号*可以让python导入模块中所有函数"
   ]
  },
  {
   "cell_type": "code",
   "execution_count": null,
   "id": "77d89585",
   "metadata": {},
   "outputs": [],
   "source": [
    "from Chapter08_module import *\n",
    "\n",
    "Function1()\n",
    "Function2_1()\n",
    "Function2_2()\n",
    "Function2_3()\n",
    "Function3()"
   ]
  }
 ],
 "metadata": {
  "kernelspec": {
   "display_name": "base",
   "language": "python",
   "name": "python3"
  },
  "language_info": {
   "codemirror_mode": {
    "name": "ipython",
    "version": 3
   },
   "file_extension": ".py",
   "mimetype": "text/x-python",
   "name": "python",
   "nbconvert_exporter": "python",
   "pygments_lexer": "ipython3",
   "version": "3.9.12"
  }
 },
 "nbformat": 4,
 "nbformat_minor": 5
}
