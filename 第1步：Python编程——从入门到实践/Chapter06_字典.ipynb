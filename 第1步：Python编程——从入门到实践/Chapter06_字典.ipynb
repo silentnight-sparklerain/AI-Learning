{
 "cells": [
  {
   "cell_type": "markdown",
   "id": "e76d4839",
   "metadata": {},
   "source": [
    "# 第六章：字典"
   ]
  },
  {
   "cell_type": "markdown",
   "id": "5fa4d492",
   "metadata": {},
   "source": [
    "## 1.一个简单的字典"
   ]
  },
  {
   "cell_type": "code",
   "execution_count": null,
   "id": "db7bf0e9",
   "metadata": {},
   "outputs": [],
   "source": [
    "Scores_Pairs = {'Chinese':120, 'Math':150, 'English':140, 'Physics':100, 'Chemistry':100, 'Biology':90, 'P_NP':'pass'}\n",
    "print(Scores_Pairs['Math'])\n",
    "print(Scores_Pairs['P_NP'])"
   ]
  },
  {
   "cell_type": "markdown",
   "id": "11ea36c9",
   "metadata": {},
   "source": [
    "python中，字典是一系列键值对（key-value pair），每一个键都与一个值对应，可以使用键来访问对应的值，与键相关联的可以是数，字符串，列表，甚至字典，任意对象都可"
   ]
  },
  {
   "cell_type": "markdown",
   "id": "6b6f36ce",
   "metadata": {},
   "source": [
    "## 2.使用字典"
   ]
  },
  {
   "cell_type": "markdown",
   "id": "39faa18a",
   "metadata": {},
   "source": [
    "### 2.1 访问字典中的值"
   ]
  },
  {
   "cell_type": "markdown",
   "id": "79295041",
   "metadata": {},
   "source": [
    "可指定字典名，并把键放在后面的方括号里面"
   ]
  },
  {
   "cell_type": "code",
   "execution_count": null,
   "id": "e5f1cd4b",
   "metadata": {},
   "outputs": [],
   "source": [
    "Scores_Pairs = {'Chinese':120, 'Math':150, 'English':140, 'Physics':100, 'Chemistry':100, 'Biology':90, 'P_NP':'pass'}\n",
    "print(Scores_Pairs['Math'])\n",
    "print(Scores_Pairs['P_NP'])"
   ]
  },
  {
   "cell_type": "markdown",
   "id": "fccdc93d",
   "metadata": {},
   "source": [
    "### 2.2 添加键值对"
   ]
  },
  {
   "cell_type": "code",
   "execution_count": null,
   "id": "791be998",
   "metadata": {},
   "outputs": [],
   "source": [
    "Scores_Pairs = {'Chinese':120, 'Math':150, 'English':140, 'P_NP':'pass'}\n",
    "print(Scores_Pairs)\n",
    "Scores_Pairs['Physics'] = 100\n",
    "Scores_Pairs['Chemistry'] = 100\n",
    "print(Scores_Pairs)"
   ]
  },
  {
   "cell_type": "markdown",
   "id": "30753af2",
   "metadata": {},
   "source": [
    "### 2.3 修改字典中的值"
   ]
  },
  {
   "cell_type": "code",
   "execution_count": null,
   "id": "b58ac34f",
   "metadata": {},
   "outputs": [],
   "source": [
    "Scores_Pairs = {'Chinese':120, 'Math':150, 'English':140, 'P_NP':'pass'}\n",
    "print(Scores_Pairs)\n",
    "Scores_Pairs['Math'] = 140\n",
    "Scores_Pairs['P_NP'] = 'not pass'\n",
    "print(Scores_Pairs)"
   ]
  },
  {
   "cell_type": "markdown",
   "id": "53e886da",
   "metadata": {},
   "source": [
    "### 2.4 删除键值对"
   ]
  },
  {
   "cell_type": "code",
   "execution_count": null,
   "id": "99a53c8f",
   "metadata": {},
   "outputs": [],
   "source": [
    "Scores_Pairs = {'Chinese':120, 'Math':150, 'English':140, 'Physics':100, 'Chemistry':100, 'Biology':90, 'P_NP':'pass'}\n",
    "print(Scores_Pairs)\n",
    "del Scores_Pairs['Biology']\n",
    "print(Scores_Pairs)"
   ]
  },
  {
   "cell_type": "markdown",
   "id": "684b067f",
   "metadata": {},
   "source": [
    "### 2.5 建议格式"
   ]
  },
  {
   "cell_type": "code",
   "execution_count": null,
   "id": "2b607d6d",
   "metadata": {},
   "outputs": [],
   "source": [
    "Scores_Pairs = {\n",
    "    'Chinese':120, \n",
    "    'Math':150, \n",
    "    'English':140, \n",
    "    'Physics':100, \n",
    "    'Chemistry':100, \n",
    "    'Biology':90, \n",
    "    'P_NP':'pass',\n",
    "    }\n",
    "print(Scores_Pairs)"
   ]
  },
  {
   "cell_type": "markdown",
   "id": "a6981ba1",
   "metadata": {},
   "source": [
    "### 2.6 使用get()方法来访问值"
   ]
  },
  {
   "cell_type": "code",
   "execution_count": null,
   "id": "f0e921e0",
   "metadata": {},
   "outputs": [],
   "source": [
    "Scores_Pairs = {\n",
    "    'Chinese':120, \n",
    "    'Math':150, \n",
    "    'English':140, \n",
    "    'Physics':100, \n",
    "    'Chemistry':100, \n",
    "    'Biology':90, \n",
    "    'P_NP':'pass',\n",
    "    }\n",
    "Chemistry = Scores_Pairs.get('Chemistry', 'No Chemistry Score!')\n",
    "History = Scores_Pairs.get('History', 'No History Score!')\n",
    "print(Chemistry, History)"
   ]
  },
  {
   "cell_type": "markdown",
   "id": "d12e5824",
   "metadata": {},
   "source": [
    "直接访问，如果字典中不存在直接访问的键，会报错。可以用get()方法，第二个参数为当指定的键不存在时要返回的值，第二个参数也可以省略"
   ]
  },
  {
   "cell_type": "markdown",
   "id": "4556e648",
   "metadata": {},
   "source": [
    "如果要访问的键可能不存在，应该用get()方法访问，不要直接访问"
   ]
  },
  {
   "cell_type": "markdown",
   "id": "da359a69",
   "metadata": {},
   "source": [
    "## 3.遍历字典"
   ]
  },
  {
   "cell_type": "markdown",
   "id": "f16e4abb",
   "metadata": {},
   "source": [
    "### 3.1 遍历所有键值对"
   ]
  },
  {
   "cell_type": "code",
   "execution_count": null,
   "id": "2b360168",
   "metadata": {},
   "outputs": [],
   "source": [
    "Scores_Pairs = {\n",
    "    'Chinese':120, \n",
    "    'Math':150, \n",
    "    'English':140, \n",
    "    'Physics':100, \n",
    "    'Chemistry':100, \n",
    "    'Biology':90, \n",
    "    'P_NP':'pass',\n",
    "    }\n",
    "for subject, score in Scores_Pairs.items():\n",
    "    print(f\"{subject}:{score}\")"
   ]
  },
  {
   "cell_type": "markdown",
   "id": "2d79f351",
   "metadata": {},
   "source": [
    "先声明两个变量分别用于存储键值对中的键和值，然后使用items()方法，这个方法返回一个键值对列表"
   ]
  },
  {
   "cell_type": "markdown",
   "id": "39b8bb5e",
   "metadata": {},
   "source": [
    "### 3.2 遍历字典中所有键"
   ]
  },
  {
   "cell_type": "markdown",
   "id": "e0c640f5",
   "metadata": {},
   "source": [
    "使用keys()方法遍历键"
   ]
  },
  {
   "cell_type": "code",
   "execution_count": null,
   "id": "d3f20094",
   "metadata": {},
   "outputs": [],
   "source": [
    "Scores_Pairs = {\n",
    "    'Chinese':120, \n",
    "    'Math':150, \n",
    "    'English':140, \n",
    "    'Physics':100, \n",
    "    'Chemistry':100, \n",
    "    'Biology':90, \n",
    "    'P_NP':'pass',\n",
    "    }\n",
    "for subject in Scores_Pairs.keys():\n",
    "    print(subject)"
   ]
  },
  {
   "cell_type": "markdown",
   "id": "71510628",
   "metadata": {},
   "source": [
    "在遍历字典时，会默认遍历所有的键，下面的代码运行结果与上面完全一致"
   ]
  },
  {
   "cell_type": "code",
   "execution_count": null,
   "id": "2b7417f9",
   "metadata": {},
   "outputs": [],
   "source": [
    "Scores_Pairs = {\n",
    "    'Chinese':120, \n",
    "    'Math':150, \n",
    "    'English':140, \n",
    "    'Physics':100, \n",
    "    'Chemistry':100, \n",
    "    'Biology':90, \n",
    "    'P_NP':'pass',\n",
    "    }\n",
    "for subject in Scores_Pairs:\n",
    "    print(subject)"
   ]
  },
  {
   "cell_type": "markdown",
   "id": "638ad1f3",
   "metadata": {},
   "source": [
    "### 3.3 按特定的顺序遍历字典中的所有键"
   ]
  },
  {
   "cell_type": "markdown",
   "id": "5ff89236",
   "metadata": {},
   "source": [
    "在for循环中使用sorted()函数来获得特定顺序排列的键列表的副本"
   ]
  },
  {
   "cell_type": "code",
   "execution_count": null,
   "id": "fe2496fe",
   "metadata": {},
   "outputs": [],
   "source": [
    "Scores_Pairs = {\n",
    "    'Chinese':120, \n",
    "    'Math':150, \n",
    "    'English':140, \n",
    "    'Physics':100, \n",
    "    'Chemistry':100, \n",
    "    'Biology':90, \n",
    "    'P_NP':'pass',\n",
    "    }\n",
    "for subject in sorted(Scores_Pairs.keys()):\n",
    "    print(subject)"
   ]
  },
  {
   "cell_type": "markdown",
   "id": "1ed35732",
   "metadata": {},
   "source": [
    "### 3.4 遍历字典中的所有值"
   ]
  },
  {
   "cell_type": "markdown",
   "id": "cd1fc8fc",
   "metadata": {},
   "source": [
    "使用value()方法，返回一个值列表，不包含任何键"
   ]
  },
  {
   "cell_type": "code",
   "execution_count": null,
   "id": "b68d7909",
   "metadata": {},
   "outputs": [],
   "source": [
    "Scores_Pairs = {\n",
    "    'Chinese':120, \n",
    "    'Math':150, \n",
    "    'English':140, \n",
    "    'Physics':100, \n",
    "    'Chemistry':100, \n",
    "    'Biology':90, \n",
    "    'P_NP':'pass',\n",
    "    }\n",
    "for score in Scores_Pairs.values():\n",
    "    print(score)"
   ]
  },
  {
   "cell_type": "markdown",
   "id": "22984111",
   "metadata": {},
   "source": [
    "### 3.5 使用集合set()剔除重复项"
   ]
  },
  {
   "cell_type": "code",
   "execution_count": null,
   "id": "245e2693",
   "metadata": {},
   "outputs": [],
   "source": [
    "Scores_Pairs = {\n",
    "    'Chinese':120, \n",
    "    'Math':150, \n",
    "    'English':140, \n",
    "    'Physics':100, \n",
    "    'Chemistry':100, \n",
    "    'Biology':90, \n",
    "    'P_NP':'pass',\n",
    "    }\n",
    "for score in set(Scores_Pairs.values()):\n",
    "    print(score)"
   ]
  },
  {
   "cell_type": "markdown",
   "id": "888bc39e",
   "metadata": {},
   "source": [
    "## 4.嵌套"
   ]
  },
  {
   "cell_type": "markdown",
   "id": "fbe4b1c1",
   "metadata": {},
   "source": [
    "### 4.1 字典列表"
   ]
  },
  {
   "cell_type": "code",
   "execution_count": null,
   "id": "32714569",
   "metadata": {},
   "outputs": [],
   "source": [
    "student1 = {'Math':100, 'C++':90, 'Python':80}\n",
    "student2 = {'Math':70, 'C++':90, 'Python':100}\n",
    "student3 = {'Math':80, 'C++':100, 'Python':80}\n",
    "student4 = {'Math':100, 'C++':70, 'Python':60}\n",
    "students = [student1, student2, student3, student4]\n",
    "for student in students:\n",
    "    print(student)\n",
    "    print(student.keys())\n",
    "    print(student.values())\n",
    "    print('\\n')"
   ]
  },
  {
   "cell_type": "markdown",
   "id": "2cc22f49",
   "metadata": {},
   "source": [
    "还可以通过append()方法增添键值对"
   ]
  },
  {
   "cell_type": "code",
   "execution_count": null,
   "id": "b495ef92",
   "metadata": {},
   "outputs": [],
   "source": [
    "student1 = {'Math':100, 'C++':90, 'Python':80}\n",
    "student2 = {'Math':70, 'C++':90, 'Python':100}\n",
    "students = [student1, student2]\n",
    "print(students)\n",
    "students.append({'Math':80, 'C++':100, 'Python':80})\n",
    "student4 = {'Math':100, 'C++':70, 'Python':60}\n",
    "students.append(student4)\n",
    "print(students)"
   ]
  },
  {
   "cell_type": "markdown",
   "id": "9f26da90",
   "metadata": {},
   "source": [
    "### 4.2 在字典中存储列表"
   ]
  },
  {
   "cell_type": "code",
   "execution_count": null,
   "id": "f852631e",
   "metadata": {},
   "outputs": [],
   "source": [
    "student = {'Math':100, 'C++':[{'Theory':80}, {'Experiment':90}, {'Final_Score':95}]}\n",
    "print(student)\n",
    "print(student.keys())\n",
    "print(student.values())\n",
    "\n",
    "# 打印键'C++'的值（是字典类型）\n",
    "for part in student['C++']:\n",
    "    print(part)"
   ]
  }
 ],
 "metadata": {
  "kernelspec": {
   "display_name": "base",
   "language": "python",
   "name": "python3"
  },
  "language_info": {
   "codemirror_mode": {
    "name": "ipython",
    "version": 3
   },
   "file_extension": ".py",
   "mimetype": "text/x-python",
   "name": "python",
   "nbconvert_exporter": "python",
   "pygments_lexer": "ipython3",
   "version": "3.9.12"
  }
 },
 "nbformat": 4,
 "nbformat_minor": 5
}
